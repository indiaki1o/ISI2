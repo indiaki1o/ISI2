{
 "cells": [
  {
   "cell_type": "markdown",
   "metadata": {},
   "source": [
    "3rd EXERCISE SESSION\n",
    "===\n",
    "|**NAME**| **KENICHI ITO** |\n",
    "| :- | :- |\n",
    "|**STUDENT ID**|**305056**|"
   ]
  },
  {
   "cell_type": "markdown",
   "metadata": {},
   "source": [
    "# Exercises 3"
   ]
  },
  {
   "cell_type": "code",
   "execution_count": 1,
   "metadata": {},
   "outputs": [],
   "source": [
    "import scipy\n",
    "import scipy.stats\n",
    "import numpy as np\n",
    "from numpy import matlib\n",
    "import matplotlib\n",
    "import matplotlib.pyplot as plt\n",
    "from matplotlib import cm\n",
    "import math\n",
    "\n",
    "# matplotlib.rc('text', usetex=True)\n",
    "# params = {'text.latex.preamble': [r\"\\usepackage{amsmath}\"]}\n",
    "# matplotlib.rcParams['text.latex.preamble']=[r\"\\usepackage{amsmath}\"]\n",
    "# plt.rcParams.update(params)\n",
    "\n",
    "tab10 = cm.get_cmap(name=\"tab10\")\n",
    "cols = tab10.colors[0:3]"
   ]
  },
  {
   "cell_type": "markdown",
   "metadata": {},
   "source": [
    "## 1. Explore the Markov inequality in some special cases as follows:\n",
    "1. (a) A non-negative random variable has $E(X) = 2$. Find an upper bound for $P(X{\\ge}5)$.\n",
    "2. (b) Let $X {\\sim} \\mathrm{Exponential}(\\beta)$ and $Y {\\sim} \\mathrm{Binomial}(n, p)$ so that $n = 20$ and $E(X) = E(Y) = 2$. Find the true probability $P(X > 5)$ and compare to (a)."
   ]
  },
  {
   "cell_type": "markdown",
   "metadata": {},
   "source": [
    "### (a)"
   ]
  },
  {
   "cell_type": "markdown",
   "metadata": {},
   "source": [
    "From markov inequation,\n",
    "\n",
    "$$\n",
    "\\begin{align*}\n",
    "%-----------------------------------------\n",
    "P(X{>}t)\n",
    "&{\\ \\le\\ }\n",
    "\\frac{E(X)}{t}\n",
    "\\\\\n",
    "P(X{>}5)\n",
    "&{\\ \\le\\ }\n",
    "\\frac{2}{5}\n",
    "%-----------------------------------------\n",
    "\\end{align*}\n",
    "$$\n",
    "\n",
    "Hence, the upper bound of $P(X{\\ge}5)$ is $\\frac{2}{5}=0.4$."
   ]
  },
  {
   "cell_type": "markdown",
   "metadata": {},
   "source": [
    "### (b)"
   ]
  },
  {
   "cell_type": "markdown",
   "metadata": {},
   "source": [
    "#### for $E(X)$, $X {\\sim} \\mathrm{Exponential}(\\beta)$:\n",
    "\n",
    "$$\n",
    "\\begin{align*}\n",
    "%---------------------\n",
    "E(X) \n",
    "&=\n",
    "\\beta\n",
    "\\\\\n",
    "%---------------------\n",
    "2\n",
    "&=\n",
    "\\beta\n",
    "\\\\\n",
    "%---------------------\n",
    "\\end{align*}\n",
    "$$"
   ]
  },
  {
   "cell_type": "markdown",
   "metadata": {},
   "source": [
    "#### for $E(Y)$, $Y {\\sim} \\mathrm{Binomial}(n=20,p)$:\n",
    "\n",
    "*pdf* of Y is,\n",
    "\n",
    "$$\n",
    "\\begin{align*}\n",
    "%---------------------\n",
    "P(Y=k, n=20)\n",
    "&=\n",
    "{}_{20}\\mathrm{C}_{k}\n",
    "p^k(1-p)^{20-k}.\n",
    "\\\\\n",
    "%---------------------\n",
    "\\end{align*}\n",
    "$$"
   ]
  },
  {
   "cell_type": "markdown",
   "metadata": {},
   "source": [
    "#### for $E(X)$, $X {\\sim} \\mathrm{Exponential}(\\beta)$.\n",
    "$$\n",
    "\\begin{align*}\n",
    "%---------------------\n",
    "E(Y)\n",
    "&=\n",
    "\\sum_{k=0}^{n}\n",
    "k{\\cdot}{}_{n}\\mathrm{C}_{k}\n",
    "p^k(1-p)^{n-k}\n",
    "\\\\\n",
    "%---------------------\n",
    "&=\n",
    "\\sum_{k=1}^{n}\n",
    "k{\\cdot}\n",
    "{}_{n}\\mathrm{C}_{k}\n",
    "p^k(1-p)^{n-k}\n",
    "\\\\\n",
    "%---------------------\n",
    "&=\n",
    "n\n",
    "\\sum_{k=1}^{n}\n",
    "    {}_{n-1}\\mathrm{C}_{k-1}\n",
    "    p^k\n",
    "    (1-p)^{n-k}\n",
    "{\\ \\ \\ \\ \\ \\ }\n",
    "{\\because\\ } \n",
    "    k\n",
    "    {\\cdot}\n",
    "    {}_{n}\\mathrm{C}_{k}\n",
    "    = \n",
    "    n\n",
    "    {\\cdot}\n",
    "    {}_{n-1}\\mathrm{C}_{k-1} \n",
    "\\\\\n",
    "%---------------------\n",
    "&=\n",
    "np\n",
    "\\sum_{k=1}^{n}\n",
    "    {}_{n-1}\\mathrm{C}_{k-1}\n",
    "    p^{k-1}\n",
    "    (1-p)^{n-k}\n",
    "\\\\\n",
    "%---------------------\n",
    "&=\n",
    "np\n",
    "\\sum_{m=0}^{n-1}\n",
    "    {}_{n-1}\\mathrm{C}_{m}\n",
    "    p^{m}\n",
    "    (1-p)^{n-(m+1)}\n",
    "{\\ \\ \\ \\ \\ \\ }\n",
    "(\\text{let }k-1=m.)\n",
    "\\\\\n",
    "%---------------------\n",
    "&=\n",
    "np\n",
    "\\sum_{m=0}^{n-1}\n",
    "    {}_{n-1}\\mathrm{C}_{m}\n",
    "    p^{m}\n",
    "    (1-p)^{(n-1)-m}\n",
    "\\\\\n",
    "%---------------------\n",
    "&=\n",
    "np\n",
    "(p+ (1-p) )^{n-1}\n",
    "{\\ \\ \\ \\ \\ \\ }\n",
    "{\\because\\ } \n",
    "(x+y)^{n} \n",
    "= \n",
    "\\sum_{i=1}^{n}\n",
    "{}_{n}\\mathrm{C}_{i} x^{i} y^{n-i}\n",
    "\\\\\n",
    "%---------------------\n",
    "&=\n",
    "np\n",
    ".\n",
    "%---------------------\n",
    "\\end{align*}\n",
    "$$"
   ]
  },
  {
   "cell_type": "markdown",
   "metadata": {},
   "source": [
    "Now, $E(Y)=2$ and $n=20$, then\n",
    "$$\n",
    "\\begin{align*}\n",
    "%---------------------\n",
    "E(Y)\n",
    "&=\n",
    "np\n",
    "\\\\\n",
    "2\n",
    "&=\n",
    "20p\n",
    "\\\\\n",
    "p\n",
    "&=\n",
    "\\frac{1}{10}.\n",
    "%---------------------\n",
    "\\end{align*}\n",
    "$$"
   ]
  },
  {
   "cell_type": "code",
   "execution_count": 106,
   "metadata": {},
   "outputs": [
    {
     "data": {
      "image/png": "[encoded data removed]",
      "text/plain": [
       "<Figure size 576x432 with 1 Axes>"
      ]
     },
     "metadata": {
      "needs_background": "light"
     },
     "output_type": "display_data"
    }
   ],
   "source": [
    "X_expon = scipy.stats.expon(scale=2,loc=0)\n",
    "X_binom = scipy.stats.binom(n=20,p=0.1)\n",
    "#-----------------------------------------------------------\n",
    "X=np.linspace(0,20,1000)\n",
    "X_disc=np.arange(0,20)\n",
    "\n",
    "fig_ = plt.figure(figsize=(8,6))\n",
    "ax_ = plt.subplot(111)\n",
    "\n",
    "ax_.plot(X, X_expon.pdf(X), label=\"$P(X)$: pdf of Expon\")\n",
    "ax_.vlines(X_disc,0, X_binom.pmf(X_disc),\n",
    "           linestyle=\"-\", lw=2)\n",
    "ax_.scatter(X_disc, X_binom.pmf(X_disc),\n",
    "            label=\"$P(Y)$: pdf of Binom\",\n",
    "            linestyle=\"-\")\n",
    "ax_.plot(X, X_expon.cdf(X), label=\"$P(X<x)$: cdf of Expon\")\n",
    "ax_.plot(X, X_binom.cdf(X), label=\"$P(Y<x)$: cdf of Binom\")\n",
    "#-----------------------------------------------------------\n",
    "ax_.grid(True)\n",
    "# ax_.axis('equal')\n",
    "ax_.legend(fontsize=24)\n",
    "ax_.axes.set_ylabel(\"Probability\")\n",
    "ax_.axes.set_xlim(0,20)\n",
    "ax_.axes.set_ylim(0,1.1)\n",
    "ax_.axes.set_xlabel(\"$x$\")\n",
    "\n",
    "ax_.legend()\n",
    "ax_.grid(True)"
   ]
  },
  {
   "cell_type": "code",
   "execution_count": 151,
   "metadata": {},
   "outputs": [
    {
     "data": {
      "image/png": "[encoded data removed]",
      "text/plain": [
       "<Figure size 576x432 with 1 Axes>"
      ]
     },
     "metadata": {
      "needs_background": "light"
     },
     "output_type": "display_data"
    }
   ],
   "source": [
    "X_expon = scipy.stats.expon(scale=2,loc=0)\n",
    "X_binom = scipy.stats.binom(n=20,p=0.1)\n",
    "#-----------------------------------------------------------\n",
    "X=np.linspace(0,20,1000)\n",
    "X_disc=np.arange(0,20)\n",
    "\n",
    "fig_ = plt.figure(figsize=(8,6))\n",
    "ax_ = plt.subplot(111)\n",
    "\n",
    "ax_.plot(X, X_expon.pdf(X), label=\"P(X): pdf of Expon\")\n",
    "ax_.vlines(X_disc,0, X_binom.pmf(X_disc),\n",
    "           linestyle=\"-\", lw=2)\n",
    "ax_.scatter(X_disc, X_binom.pmf(X_disc),\n",
    "            label=\"$P(Y)$: pdf of Binom\",\n",
    "            linestyle=\"-\")\n",
    "ax_.plot(X, X_expon.cdf(X)-X_expon.cdf(5), label=\"$P(X>x)-P(X<5)$\")\n",
    "ax_.plot(X, X_binom.cdf(X)-X_expon.cdf(5), label=\"$P(Y>x)-P(Y<5)$\")\n",
    "ax_.plot(X, 0.4*np.ones(X.shape), \n",
    "         label=\"Upper bound: P=0.4\")\n",
    "#-----------------------------------------------------------\n",
    "ax_.grid(True)\n",
    "# ax_.axis('equal')\n",
    "ax_.legend(fontsize=24)\n",
    "ax_.axes.set_ylabel(\"Probability\")\n",
    "ax_.axes.set_xlim(0,20)\n",
    "ax_.axes.set_ylim(0,.5)\n",
    "ax_.axes.set_xlabel(\"$X$, $Y$\")\n",
    "\n",
    "ax_.legend()\n",
    "ax_.grid(True)"
   ]
  },
  {
   "cell_type": "code",
   "execution_count": 148,
   "metadata": {},
   "outputs": [
    {
     "name": "stdout",
     "output_type": "stream",
     "text": [
      "E(X) = 2.0000000000000004 ≒ 2\n",
      "E(Y) = 1.9999999999999976 ≒ 2\n",
      "P(X>5) = 0.082085 < 0.4\n",
      "P(Y>5) = 0.011253 < 0.4\n"
     ]
    }
   ],
   "source": [
    "expected_expon = scipy.integrate.quad(lambda x: x*X_expon.pdf(x), 0,1000)\n",
    "X_disc = np.arange(0,20)\n",
    "expected_binom = np.sum(X_disc*X_binom.pmf(X_disc))\n",
    "print(\"E(X) = {0:.16f} ≒ {1:}\".format(expected_expon[0], 2) )\n",
    "print(\"E(Y) = {0:.16f} ≒ {1:}\".format(expected_binom, 2) )\n",
    "\n",
    "print(\"P(X>5) = {0:8.6f} < {1:}\".format(1-X_expon.cdf(5), 0.4) )\n",
    "print(\"P(Y>5) = {0:8.6f} < {1:}\".format(1-X_binom.cdf(5), 0.4) )"
   ]
  },
  {
   "cell_type": "markdown",
   "metadata": {},
   "source": [
    "## 2. Upper bound from Chebyshev's iquation.\n",
    "Assume that $E(X) = 5$ and $var(X) = 5$.\n",
    "- (a) Find an upper limit for $P(|X-E(X)|{\\ge}10)$ using Chebyshev's inequality.\n",
    "- (b) Consider two different probability distributions that fulfill the conditions for $E(X)$ and $var(X)$. Compute $P(|X-E(X)|{\\ge}10)$ for these and compare to the upper limit you got in (a)."
   ]
  },
  {
   "cell_type": "markdown",
   "metadata": {},
   "source": [
    "### (a) upper limit for $P(|X-E(X)|{\\ge}10)$"
   ]
  },
  {
   "cell_type": "markdown",
   "metadata": {},
   "source": [
    "From Chebyshev's inequation,\n",
    "\n",
    "$$\n",
    "\\begin{align*}\n",
    "%-----------------------------------------\n",
    "P(|X-\\mathrm{E}(X)|{\\ge}t)\n",
    "&{\\ \\le\\ }\n",
    "\\frac{\\mathrm{Var}(X)}{t^2}\n",
    "\\\\\n",
    "%-----------------------------------------\n",
    "P(|X-\\mathrm{E}(X)|{\\ge}10)\n",
    "&{\\ \\le\\ }\n",
    "\\frac{\\mathrm{Var}(X)}{10^2}\n",
    "\\\\\n",
    "%-----------------------------------------\n",
    "P(|X-\\mathrm{E}(X)|{\\ge}10)\n",
    "&{\\ \\le\\ }\n",
    "\\frac{\\mathrm{Var}(X)}{100}\n",
    "\\\\\n",
    "%-----------------------------------------\n",
    "\\end{align*}\n",
    "$$\n",
    "\n",
    "Hence, the upper bound of $P(|X-\\mathrm{E}(X)|{\\ge}10)$ is $\\frac{\\mathrm{Var}(X)}{100}$."
   ]
  }
 ],
 "metadata": {
  "kernelspec": {
   "display_name": "Python 3",
   "language": "python",
   "name": "python3"
  },
  "language_info": {
   "codemirror_mode": {
    "name": "ipython",
    "version": 3
   },
   "file_extension": ".py",
   "mimetype": "text/x-python",
   "name": "python",
   "nbconvert_exporter": "python",
   "pygments_lexer": "ipython3",
   "version": "3.7.3"
  }
 },
 "nbformat": 4,
 "nbformat_minor": 4
}
