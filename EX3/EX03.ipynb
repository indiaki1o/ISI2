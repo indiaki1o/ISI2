{
 "cells": [
  {
   "cell_type": "markdown",
   "metadata": {},
   "source": [
    "3rd EXERCISE SESSION\n",
    "===\n",
    "|**NAME**| **KENICHI ITO** |\n",
    "| :- | :- |\n",
    "|**STUDENT ID**|**305056**|"
   ]
  },
  {
   "cell_type": "markdown",
   "metadata": {},
   "source": [
    "# Exercises 3"
   ]
  },
  {
   "cell_type": "code",
   "execution_count": null,
   "metadata": {},
   "outputs": [],
   "source": [
    "import scipy\n",
    "import scipy.stats\n",
    "import numpy as np\n",
    "from numpy import matlib\n",
    "import matplotlib\n",
    "import matplotlib.pyplot as plt\n",
    "from matplotlib import cm\n",
    "import math\n",
    "\n",
    "# matplotlib.rc('text', usetex=True)\n",
    "# params = {'text.latex.preamble': [r\"\\usepackage{amsmath}\"]}\n",
    "# matplotlib.rcParams['text.latex.preamble']=[r\"\\usepackage{amsmath}\"]\n",
    "# plt.rcParams.update(params)\n",
    "\n",
    "tab10 = cm.get_cmap(name=\"tab10\")\n",
    "cols = tab10.colors[0:3]"
   ]
  },
  {
   "cell_type": "markdown",
   "metadata": {},
   "source": [
    "## 1. Explore the Markov inequality in some special cases as follows:\n",
    "1. (a) A non-negative random variable has $E(X) = 2$. Find an upper bound for $P(X{\\ge}5)$.\n",
    "2. (b) Let $X {\\sim} Exponential(\\beta)$ and $Y {\\sim} \\mathrm{Binomial}(n, p)$ so that $n = 20$ and $E(X) = E(Y) = 2$. Find the true probability $P(X > 5)$ and compare to (a)."
   ]
  },
  {
   "cell_type": "markdown",
   "metadata": {},
   "source": [
    "### (a)"
   ]
  },
  {
   "cell_type": "markdown",
   "metadata": {},
   "source": [
    "From markov inequation,\n",
    "\n",
    "$$\n",
    "\\begin{align*}\n",
    "%-----------------------------------------\n",
    "P(X{\\ge}t)\n",
    "&<\n",
    "\\frac{E(X)}{t}\n",
    "\\\\\n",
    "P(X{\\ge}5)\n",
    "&<\n",
    "\\frac{2}{5}\n",
    "%-----------------------------------------\n",
    "\\end{align*}\n",
    "$$\n",
    "\n",
    "Hence, the upper bound of $P(X{\\ge}5)$ is $\\frac{2}{5}=0.4$."
   ]
  }
 ],
 "metadata": {
  "kernelspec": {
   "display_name": "Python 3",
   "language": "python",
   "name": "python3"
  },
  "language_info": {
   "codemirror_mode": {
    "name": "ipython",
    "version": 3
   },
   "file_extension": ".py",
   "mimetype": "text/x-python",
   "name": "python",
   "nbconvert_exporter": "python",
   "pygments_lexer": "ipython3",
   "version": "3.7.3"
  }
 },
 "nbformat": 4,
 "nbformat_minor": 4
}
