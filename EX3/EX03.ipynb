{
 "cells": [
  {
   "cell_type": "markdown",
   "metadata": {},
   "source": [
    "3rd EXERCISE SESSION\n",
    "===\n",
    "|**NAME**| **KENICHI ITO** |\n",
    "| :- | :- |\n",
    "|**STUDENT ID**|**305056**|"
   ]
  },
  {
   "cell_type": "markdown",
   "metadata": {},
   "source": [
    "# Exercises 3"
   ]
  },
  {
   "cell_type": "code",
   "execution_count": null,
   "metadata": {},
   "outputs": [],
   "source": [
    "import scipy\n",
    "import scipy.stats\n",
    "import numpy as np\n",
    "from numpy import matlib\n",
    "import matplotlib\n",
    "import matplotlib.pyplot as plt\n",
    "from matplotlib import cm\n",
    "import math\n",
    "\n",
    "# matplotlib.rc('text', usetex=True)\n",
    "# params = {'text.latex.preamble': [r\"\\usepackage{amsmath}\"]}\n",
    "# matplotlib.rcParams['text.latex.preamble']=[r\"\\usepackage{amsmath}\"]\n",
    "# plt.rcParams.update(params)\n",
    "\n",
    "tab10 = cm.get_cmap(name=\"tab10\")\n",
    "cols = tab10.colors[0:3]"
   ]
  },
  {
   "cell_type": "markdown",
   "metadata": {},
   "source": [
    "## 1. Explore the Markov inequality in some special cases as follows:\n",
    "1. (a) A non-negative random variable has $E(X) = 2$. Find an upper bound for $P(X{\\ge}5)$.\n",
    "2. (b) Let $X {\\sim} \\mathrm{Exponential}(\\beta)$ and $Y {\\sim} \\mathrm{Binomial}(n, p)$ so that $n = 20$ and $E(X) = E(Y) = 2$. Find the true probability $P(X > 5)$ and compare to (a)."
   ]
  },
  {
   "cell_type": "markdown",
   "metadata": {},
   "source": [
    "### (a)"
   ]
  },
  {
   "cell_type": "markdown",
   "metadata": {},
   "source": [
    "From markov inequation,\n",
    "\n",
    "$$\n",
    "\\begin{align*}\n",
    "%-----------------------------------------\n",
    "P(X{>}t)\n",
    "&{\\ \\le\\ }\n",
    "\\frac{E(X)}{t}\n",
    "\\\\\n",
    "P(X{>}5)\n",
    "&{\\ \\le\\ }\n",
    "\\frac{2}{5}\n",
    "%-----------------------------------------\n",
    "\\end{align*}\n",
    "$$\n",
    "\n",
    "Hence, the upper bound of $P(X{\\ge}5)$ is $\\frac{2}{5}=0.4$."
   ]
  },
  {
   "cell_type": "markdown",
   "metadata": {},
   "source": [
    "### (b)"
   ]
  },
  {
   "cell_type": "markdown",
   "metadata": {},
   "source": [
    "#### for $E(X)$, $X {\\sim} \\mathrm{Exponential}(\\beta)$:\n",
    "\n",
    "$$\n",
    "\\begin{align*}\n",
    "%---------------------\n",
    "E(X) \n",
    "&=\n",
    "\\beta\n",
    "\\\\\n",
    "%---------------------\n",
    "2\n",
    "&=\n",
    "\\beta\n",
    "\\\\\n",
    "%---------------------\n",
    "\\end{align*}\n",
    "$$"
   ]
  },
  {
   "cell_type": "markdown",
   "metadata": {},
   "source": [
    "#### for $E(Y)$, $Y {\\sim} \\mathrm{Binomial}(n=20,p)$:\n",
    "\n",
    "*pdf* of Y is,\n",
    "\n",
    "$$\n",
    "\\begin{align*}\n",
    "%---------------------\n",
    "P(Y=k, n=20)\n",
    "&=\n",
    "{}_{20}\\mathrm{C}_{k}\n",
    "p^k(1-p)^{20-k}.\n",
    "\\\\\n",
    "%---------------------\n",
    "\\end{align*}\n",
    "$$"
   ]
  },
  {
   "cell_type": "markdown",
   "metadata": {},
   "source": [
    "#### for $E(X)$, $X {\\sim} \\mathrm{Exponential}(\\beta)$.\n",
    "$$\n",
    "\\begin{align*}\n",
    "%---------------------\n",
    "E(Y)\n",
    "&=\n",
    "\\sum_{k=0}^{n}\n",
    "k{\\cdot}{}_{n}\\mathrm{C}_{k}\n",
    "p^k(1-p)^{n-k}\n",
    "\\\\\n",
    "%---------------------\n",
    "&=\n",
    "\\sum_{k=1}^{n}\n",
    "k{\\cdot}\n",
    "{}_{n}\\mathrm{C}_{k}\n",
    "p^k(1-p)^{n-k}\n",
    "\\\\\n",
    "%---------------------\n",
    "&=\n",
    "n\n",
    "\\sum_{k=1}^{n}\n",
    "    {}_{n-1}\\mathrm{C}_{k-1}\n",
    "    p^k\n",
    "    (1-p)^{n-k}\n",
    "{\\ \\ \\ \\ \\ \\ }\n",
    "{\\because\\ } \n",
    "    k\n",
    "    {\\cdot}\n",
    "    {}_{n}\\mathrm{C}_{k}\n",
    "    = \n",
    "    n\n",
    "    {\\cdot}\n",
    "    {}_{n-1}\\mathrm{C}_{k-1} \n",
    "\\\\\n",
    "%---------------------\n",
    "&=\n",
    "np\n",
    "\\sum_{k=1}^{n}\n",
    "    {}_{n-1}\\mathrm{C}_{k-1}\n",
    "    p^{k-1}\n",
    "    (1-p)^{n-k}\n",
    "\\\\\n",
    "%---------------------\n",
    "&=\n",
    "np\n",
    "\\sum_{m=0}^{n-1}\n",
    "    {}_{n-1}\\mathrm{C}_{m}\n",
    "    p^{m}\n",
    "    (1-p)^{n-(m+1)}\n",
    "{\\ \\ \\ \\ \\ \\ }\n",
    "(\\text{let }k-1=m.)\n",
    "\\\\\n",
    "%---------------------\n",
    "&=\n",
    "np\n",
    "\\sum_{m=0}^{n-1}\n",
    "    {}_{n-1}\\mathrm{C}_{m}\n",
    "    p^{m}\n",
    "    (1-p)^{(n-1)-m}\n",
    "\\\\\n",
    "%---------------------\n",
    "&=\n",
    "np\n",
    "(p+ (1-p) )^{n-1}\n",
    "{\\ \\ \\ \\ \\ \\ }\n",
    "{\\because\\ } \n",
    "(x+y)^{n} \n",
    "= \n",
    "\\sum_{i=1}^{n}\n",
    "{}_{n}\\mathrm{C}_{i} x^{i} y^{n-i}\n",
    "\\\\\n",
    "%---------------------\n",
    "&=\n",
    "np\n",
    ".\n",
    "%---------------------\n",
    "\\end{align*}\n",
    "$$"
   ]
  },
  {
   "cell_type": "markdown",
   "metadata": {},
   "source": [
    "Now, $E(Y)=2$ and $n=20$, then\n",
    "$$\n",
    "\\begin{align*}\n",
    "%---------------------\n",
    "E(Y)\n",
    "&=\n",
    "np\n",
    "\\\\\n",
    "2\n",
    "&=\n",
    "20p\n",
    "\\\\\n",
    "p\n",
    "&=\n",
    "\\frac{1}{10}.\n",
    "%---------------------\n",
    "\\end{align*}\n",
    "$$"
   ]
  }
 ],
 "metadata": {
  "kernelspec": {
   "display_name": "Python 3",
   "language": "python",
   "name": "python3"
  },
  "language_info": {
   "codemirror_mode": {
    "name": "ipython",
    "version": 3
   },
   "file_extension": ".py",
   "mimetype": "text/x-python",
   "name": "python",
   "nbconvert_exporter": "python",
   "pygments_lexer": "ipython3",
   "version": "3.7.3"
  }
 },
 "nbformat": 4,
 "nbformat_minor": 4
}
