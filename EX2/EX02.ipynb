{
 "cells": [
  {
   "cell_type": "markdown",
   "metadata": {},
   "source": [
    "2nd EXERCISE SESSION\n",
    "===\n",
    "|**NAME**| **KENICHI ITO** |\n",
    "| :- | :- |\n",
    "|**STUDENT ID**|**305056**|"
   ]
  },
  {
   "cell_type": "markdown",
   "metadata": {},
   "source": [
    "# Exercises 2"
   ]
  },
  {
   "cell_type": "markdown",
   "metadata": {},
   "source": [
    "## 1. ${k}^{th}$ smallest observation $X_{k:n}$ in $n$ sampling"
   ]
  },
  {
   "cell_type": "code",
   "execution_count": 1,
   "metadata": {},
   "outputs": [],
   "source": [
    "import scipy\n",
    "import scipy.stats\n",
    "import numpy as np\n",
    "import matplotlib\n",
    "import matplotlib.pyplot as plt\n",
    "from matplotlib import cm\n",
    "\n",
    "# matplotlib.rc('text', usetex=True)\n",
    "# params = {'text.latex.preamble': [r\"\\usepackage{amsmath}\"]}\n",
    "# matplotlib.rcParams['text.latex.preamble']=[r\"\\usepackage{amsmath}\"]\n",
    "# plt.rcParams.update(params)\n",
    "\n",
    "tab10 = cm.get_cmap(name=\"tab10\")\n",
    "cols = tab10.colors[0:3]"
   ]
  },
  {
   "cell_type": "markdown",
   "metadata": {},
   "source": [
    "### (a) Assuming $X_i \\sim \\mathrm{Uniform}(0,10)$."
   ]
  },
  {
   "cell_type": "code",
   "execution_count": 2,
   "metadata": {},
   "outputs": [],
   "source": [
    "# for X_2:4\n",
    "X_n4 = scipy.stats.uniform(0,10).rvs(size=4) #[scipy.stats.uniform(0,10) for x in range(4)]\n",
    "X_2to4  = np.sort(X_n4)[0:2]\n",
    "\n",
    "# for X_2:10\n",
    "X_n10  = scipy.stats.uniform(0,10).rvs(size=10) #[scipy.stats.uniform(0,10) for x in range(10)]\n",
    "X_2to10= np.sort(X_n10)[0:4]\n",
    "\n",
    "# for X_10:10\n",
    "X_n10  = scipy.stats.uniform(0,10).rvs(size=10) #[scipy.stats.uniform(0,10) for x in range(10)]\n",
    "X_10to10= np.sort(X_n10)[0:10]"
   ]
  },
  {
   "cell_type": "code",
   "execution_count": 3,
   "metadata": {},
   "outputs": [
    {
     "data": {
      "text/plain": [
       "<matplotlib.legend.Legend at 0x1886dd1eb38>"
      ]
     },
     "execution_count": 3,
     "metadata": {},
     "output_type": "execute_result"
    },
    {
     "data": {
      "image/png": "[encoded data removed]",
      "text/plain": [
       "<Figure size 432x288 with 1 Axes>"
      ]
     },
     "metadata": {
      "needs_background": "light"
     },
     "output_type": "display_data"
    }
   ],
   "source": [
    "plt.scatter(range(1,len(X_2to4)+1), X_2to4)\n",
    "plt.scatter(range(1,len(X_2to10)+1), X_2to10)\n",
    "plt.scatter(range(1,len(X_10to10)+1), X_10to10)\n",
    "plt.grid(True)\n",
    "plt.xlim(1,10)\n",
    "plt.ylim(0,10)\n",
    "\n",
    "plt.xlabel(\"$k^{th}$ smallest sample\")\n",
    "plt.ylabel(\"Random variate\")\n",
    "plt.legend([\"$X_{2:4}$\",\"$X_{2:10}$\",\"$X_{10:10}$\"], loc=\"lower right\", fontsize=14)"
   ]
  },
  {
   "cell_type": "markdown",
   "metadata": {},
   "source": [
    "### (b.1) Assuming $X_i \\sim \\mathrm{Exponential}(x|\\lambda=2) = {\\lambda} \\mathrm{e}^{-\\lambda x} \\text{ if } x{\\ge}0 \\text{ otherwise } 0$."
   ]
  },
  {
   "cell_type": "code",
   "execution_count": 4,
   "metadata": {},
   "outputs": [],
   "source": [
    "# for X_2:4\n",
    "X_n4 = scipy.stats.expon(scale=2).rvs(size=4) #[scipy.stats.uniform(0,10) for x in range(4)]\n",
    "X_2to4_expon  = np.sort(X_n4)[0:2]\n",
    "\n",
    "# for X_2:10\n",
    "X_n10  = scipy.stats.expon(scale=2).rvs(size=10) #[scipy.stats.uniform(0,10) for x in range(10)]\n",
    "X_2to10_expon= np.sort(X_n10)[0:4]\n",
    "\n",
    "# for X_10:10\n",
    "X_n10  = scipy.stats.expon(scale=2).rvs(size=10) #[scipy.stats.uniform(0,10) for x in range(10)]\n",
    "X_10to10_expon= np.sort(X_n10)[0:10]"
   ]
  },
  {
   "cell_type": "code",
   "execution_count": 5,
   "metadata": {},
   "outputs": [
    {
     "data": {
      "image/png": "[encoded data removed]",
      "text/plain": [
       "<Figure size 576x432 with 1 Axes>"
      ]
     },
     "metadata": {
      "needs_background": "light"
     },
     "output_type": "display_data"
    }
   ],
   "source": [
    "plt.figure(figsize=(8, 6))\n",
    "ax = plt.subplot(111)\n",
    "box = ax.get_position()\n",
    "ax.set_position([box.x0, box.y0, box.width, box.height*0.8])\n",
    "#%\n",
    "ax.scatter(range(1,len(X_2to4_expon)+1), X_2to4_expon, marker=\"o\", color=cols[0])\n",
    "ax.scatter(range(1,len(X_2to10_expon)+1), X_2to10_expon, marker=\"o\",  color=cols[1])\n",
    "ax.scatter(range(1,len(X_10to10_expon)+1), X_10to10_expon, marker=\"o\",  color=cols[2])\n",
    "\n",
    "ax.scatter(range(1,len(X_2to4)+1), X_2to4, marker=\"x\",  color=cols[0])\n",
    "ax.scatter(range(1,len(X_2to10)+1), X_2to10, marker=\"x\",  color=cols[1])\n",
    "ax.scatter(range(1,len(X_10to10)+1), X_10to10, marker=\"x\",  color=cols[2])\n",
    "\n",
    "#%\n",
    "ax.grid(True)\n",
    "ax.set_xlim(1,10)\n",
    "    \n",
    "ax.set_xlabel(\"$k^{th}$ smallest sample\")\n",
    "ax.set_ylabel(\"Random variate\")\n",
    "lgd = ax.legend([\"$X_{2:4}$\",\"$X_{2:10}$\",\"$X_{10:10}$\"], loc=\"upper left\", fontsize=12)\n",
    "\n",
    "lgd_xy=(0,1.25)\n",
    "dummies = [ax.scatter([], [], c=\"k\",marker=\"o\"),\n",
    "           ax.scatter([], [], c=\"k\", marker=\"x\")]\n",
    "ax.legend(dummies, [\"$\\mathrm{Exponential}(2)$\",\"$\\mathrm{Uniform}(0,10)$\"],\n",
    "          loc=\"upper left\", fontsize=12,  bbox_to_anchor=lgd_xy)\n",
    "\n",
    "_= ax.add_artist(lgd)"
   ]
  },
  {
   "cell_type": "markdown",
   "metadata": {},
   "source": [
    "### (b.2) Assuming $X_i \\sim \\mathcal{N}(\\mu=0,\\,\\sigma^{2}={2.9}^{2})$."
   ]
  },
  {
   "cell_type": "code",
   "execution_count": 6,
   "metadata": {},
   "outputs": [],
   "source": [
    "# for X_2:4\n",
    "X_n4 = scipy.stats.norm(loc=0, scale=2.9**2).rvs(size=4) #[scipy.stats.uniform(0,10) for x in range(4)]\n",
    "X_2to4_norm  = np.sort(X_n4)[0:2]\n",
    "\n",
    "# for X_2:10\n",
    "X_n10  =scipy.stats.norm(loc=0, scale=2.9**2).rvs(size=10) #[scipy.stats.uniform(0,10) for x in range(10)]\n",
    "X_2to10_norm= np.sort(X_n10)[0:4]\n",
    "\n",
    "# for X_10:10\n",
    "X_n10  = scipy.stats.norm(loc=0, scale=2.9**2).rvs(size=10) #[scipy.stats.uniform(0,10) for x in range(10)]\n",
    "X_10to10_norm= np.sort(X_n10)[0:10]"
   ]
  },
  {
   "cell_type": "code",
   "execution_count": 7,
   "metadata": {},
   "outputs": [
    {
     "data": {
      "image/png": "[encoded data removed]",
      "text/plain": [
       "<Figure size 576x432 with 1 Axes>"
      ]
     },
     "metadata": {
      "needs_background": "light"
     },
     "output_type": "display_data"
    }
   ],
   "source": [
    "plt.figure(figsize=(8, 6))\n",
    "ax = plt.subplot(111)\n",
    "box = ax.get_position()\n",
    "ax.set_position([box.x0, box.y0, box.width, box.height*0.8])\n",
    "#%\n",
    "ax.scatter(range(1,len(X_2to4_norm)+1), X_2to4_norm, marker=\"o\", color=cols[0])\n",
    "ax.scatter(range(1,len(X_2to10_norm)+1), X_2to10_norm, marker=\"o\",  color=cols[1])\n",
    "ax.scatter(range(1,len(X_10to10_norm)+1), X_10to10_norm, marker=\"o\",  color=cols[2])\n",
    "\n",
    "ax.scatter(range(1,len(X_2to4)+1), X_2to4, marker=\"x\",  color=cols[0])\n",
    "ax.scatter(range(1,len(X_2to10)+1), X_2to10, marker=\"x\",  color=cols[1])\n",
    "ax.scatter(range(1,len(X_10to10)+1), X_10to10, marker=\"x\",  color=cols[2])\n",
    "\n",
    "#%\n",
    "ax.grid(True)\n",
    "ax.set_xlim(1,10)\n",
    "\n",
    "ax.set_xlabel(\"$k^{th}$ smallest sample\")\n",
    "ax.set_ylabel(\"Random variate\")\n",
    "lgd = ax.legend([\"$X_{2:4}$\",\"$X_{2:10}$\",\"$X_{10:10}$\"], loc=\"upper left\", fontsize=12)\n",
    "\n",
    "lgd_xy=(0,1.25)\n",
    "dummies = [ax.scatter([], [], c=\"k\",marker=\"o\"),\n",
    "           ax.scatter([], [], c=\"k\", marker=\"x\")]\n",
    "ax.legend(dummies, [\"$\\mathcal{N}(\\mu=0,\\,\\sigma^{2}={2.9}^{2})$\",\"$\\mathrm{Uniform}(0,10)$1\"],\n",
    "          loc=\"upper left\", fontsize=12,  bbox_to_anchor=lgd_xy)\n",
    "\n",
    "_= ax.add_artist(lgd)"
   ]
  },
  {
   "cell_type": "markdown",
   "metadata": {},
   "source": [
    "## 2. Statistic variation calculation\n",
    "Consider the following vector of numbers: $x = (2, 3, 3.5, 7, 10, 12)^\\mathrm{T}$, where $\\mathrm{T}$ signifies the transpose operator.\n",
    "Plot the function \n",
    "    $f(a)=\\sum_{i=1}^{6}{(x_{i}-a)^{2}}$\n",
    "as a function of a for $a {\\in} [2, 12]$.\n",
    "Which value of $a$ gives the minumum value of $f(a)$? Explain the result."
   ]
  },
  {
   "cell_type": "code",
   "execution_count": 25,
   "metadata": {},
   "outputs": [],
   "source": [
    "x = np.array([2,3,3.5,7,10,12]).T\n",
    "a_list = [2,12]\n",
    "\n",
    "def func_f(X_array, a):\n",
    "    return np.sum(np.power(X_array - a, 2))\n",
    "    "
   ]
  },
  {
   "cell_type": "code",
   "execution_count": 26,
   "metadata": {},
   "outputs": [
    {
     "name": "stdout",
     "output_type": "stream",
     "text": [
      "f(a= 2) = 192.2500\n",
      "f(a=12) = 282.2500\n"
     ]
    }
   ],
   "source": [
    "for a in a_list:\n",
    "    print( \"f(a={0:>2d}) = {1:>6.4f}\".format(a, func_f(x,a)) )"
   ]
  },
  {
   "cell_type": "code",
   "execution_count": 27,
   "metadata": {},
   "outputs": [
    {
     "name": "stdout",
     "output_type": "stream",
     "text": [
      "Mean of x: mean(X)=6.2500\n"
     ]
    }
   ],
   "source": [
    "print( \"Mean of x: mean(X)={0:>.4f}\".format(np.mean(x)) )"
   ]
  },
  {
   "cell_type": "code",
   "execution_count": 32,
   "metadata": {},
   "outputs": [
    {
     "data": {
      "text/plain": [
       "Text(0.5, 1.0, 'the Concave function $f(a)$')"
      ]
     },
     "execution_count": 32,
     "metadata": {},
     "output_type": "execute_result"
    },
    {
     "data": {
      "image/png": "[encoded data removed]",
      "text/plain": [
       "<Figure size 576x432 with 1 Axes>"
      ]
     },
     "metadata": {
      "needs_background": "light"
     },
     "output_type": "display_data"
    }
   ],
   "source": [
    "mean_x=np.mean(x)\n",
    "a_xlim=(mean_x-10,mean_x+10)\n",
    "A_lin = np.linspace(a_xlim[0],a_xlim[1],50)\n",
    "Y = [func_f(x,a) for a in A_lin]\n",
    "#%\n",
    "fig_ = plt.figure(figsize=(8,6))\n",
    "ax_  = plt.subplot(111)\n",
    "lin_fa = ax_.plot(A_lin,Y, label=\"$f(a)$\")\n",
    "lin_a0 = ax_.scatter(a_list[0], func_f(x,a_list[0]), marker=\"x\", s=40,\n",
    "                     label=\"$f(a={})$\".format(a_list[0]) )\n",
    "lin_a1 = ax_.scatter(a_list[1], func_f(x,a_list[1]), marker=\"x\", s=40,\n",
    "                     label=\"$f(a={})$\".format(a_list[1]) )\n",
    "lin_mean = ax_.scatter(mean_x, func_f(x,mean_x), marker=\"x\", s=40,\n",
    "                       label=\"$f(a=\\overline{\\mathbf{x}})$\")\n",
    "#%\n",
    "ax_.grid(True)\n",
    "ax_.legend()\n",
    "ax_.axes.set_xlabel(\"$ a $\")\n",
    "ax_.axes.set_ylabel(\"$ f(a) $\")\n",
    "ax_.axes.set_xlim(a_xlim[0:])\n",
    "ax_.axes.set_ylim(0,)\n",
    "ax_.axes.set_title(\"the Concave function $f(a)$\")"
   ]
  },
  {
   "cell_type": "markdown",
   "metadata": {},
   "source": [
    "As the result, $f(a=2) < f(a=12)$, so $a=2$ gave minimum in $a {\\in} [2, 12]$.\n",
    "From the theorem 2.1.:\n",
    "$$\n",
    "\\min_{a}\\sum_{i=1}^{n}{(x_i - a)^{2}}\n",
    "=\n",
    "\\min_{a}\\sum_{i=1}^{n}{(x_i - \\overline{\\boldsymbol{x}})^{2}},\n",
    "$$\n",
    "$f(a)$ become minimal when $a=\\overline{\\boldsymbol{x}}$.\n",
    "As you can see the figure above, $f(a)$ is concave function, which has the minimal value when $a=\\overline{\\boldsymbol{x}}$ as well."
   ]
  },
  {
   "cell_type": "markdown",
   "metadata": {},
   "source": [
    "## 3. Probability cumulative distribution function (*CDF*)\n",
    "The lifetime of a cellphone follows $\\mathrm{Exponential}(\\beta)$ distribution with $\\beta = 2$.\n",
    "The manufacturer guarantees that you will get a replacement phone if your phone gets broken within 2 years from the day of purchase.\n",
    "However, they will not make another replacement if the second phone gets broken within 2 years from the day you purchased the first one.\n",
    "\n",
    "* (a) Find the expected value and variance for the total lifetime of two cellphones.\n",
    "* (b) Find the *PDF* of the total lifetime of two cellphones.\n",
    "* (c) Find the probability that you will have a working cellphone 2 years from the day of purchase. A numerical approximation using R-function *integrate* is sufficient."
   ]
  },
  {
   "cell_type": "code",
   "execution_count": 73,
   "metadata": {},
   "outputs": [
    {
     "data": {
      "text/plain": [
       "Text(0.5, 1.0, 'Probability a mobile phone is alive until the time $t\\\\ \\\\mathrm{[Year]}$')"
      ]
     },
     "execution_count": 73,
     "metadata": {},
     "output_type": "execute_result"
    },
    {
     "data": {
      "image/png": "[encoded data removed]",
      "text/plain": [
       "<Figure size 576x432 with 1 Axes>"
      ]
     },
     "metadata": {
      "needs_background": "light"
     },
     "output_type": "display_data"
    }
   ],
   "source": [
    "expon = scipy.stats.expon(scale=2)\n",
    "X_t=np.linspace(0,3,1000)\n",
    "prob = expon.pdf(X)\n",
    "\n",
    "fig_ = plt.figure(figsize=(8,6))\n",
    "ax_  = plt.subplot(111)\n",
    "lin_fa = ax_.plot(X_t,prob, label=\"$\\mathrm{Exponential}(x|\\beta=2)$\")\n",
    "# lin_a0 = ax_.scatter(a_list[0], func_f(x,a_list[0]), marker=\"x\", s=40,\n",
    "#                      label=\"$f(a={})$\".format(a_list[0]) )\n",
    "# lin_a1 = ax_.scatter(a_list[1], func_f(x,a_list[1]), marker=\"x\", s=40,\n",
    "#                      label=\"$f(a={})$\".format(a_list[1]) )\n",
    "# lin_mean = ax_.scatter(mean_x, func_f(x,mean_x), marker=\"x\", s=40,\n",
    "#                        label=\"$f(a=\\overline{\\mathbf{x}})$\")\n",
    "#%\n",
    "ax_.grid(True)\n",
    "ax_.legend()\n",
    "ax_.axes.set_xlabel(\"$ t {\\ } \\mathrm{[Year]} $\")\n",
    "ax_.axes.set_ylabel(\"Probability the phone is still alive\")\n",
    "ax_.axes.set_xlim()\n",
    "ax_.axes.set_ylim(0,)\n",
    "ax_.axes.set_title(\"Probability a mobile phone is alive until the time $t\\ \\mathrm{[Year]}$\")"
   ]
  },
  {
   "cell_type": "markdown",
   "metadata": {},
   "source": [
    "\n",
    "From $Y=\\mathrm{a} + \\mathrm{b}X$,\n",
    "$$\n",
    "\\begin{align*}\n",
    "Y=\\mathrm{a} + \\mathrm{b}X\n",
    "\\\\\n",
    "\\frac{\\mathrm{d}x}{\\mathrm{d}y}\n",
    "&= \\frac{\\frac{\\mathrm{d}Y}{\\mathrm{d}Y} -\\mathrm{a}}{\\mathrm{b}}.\n",
    "\\\\\n",
    "&= \\frac{1}{\\mathrm{b}}.\n",
    "\\end{align*}\n",
    "$$"
   ]
  },
  {
   "cell_type": "markdown",
   "metadata": {},
   "source": [
    "PDF of $Y$ $f_{Y}(y)$ is\n",
    "$$\n",
    "\\begin{align*}\n",
    "\\int_{x}^{x+\\Delta{x}}f_{X}'(x) \\mathrm{d}x\n",
    "&= \\int_{y}^{y+\\Delta{y}}f_{Y}'(y) \\mathrm{d}y\n",
    "\\\\\n",
    "f_{X}(x) \\Delta{x}\n",
    "&= f_{Y}(y) \\Delta{y}\n",
    "    {\\ }{\\ }{\\ }{\\ }\n",
    "    (\\text{${\\Delta}x$ and ${\\Delta}y$ are so small})\n",
    "\\\\\n",
    "f_{X}(x) \\mathrm{d}x\n",
    "&= f_{Y}(y) \\mathrm{d}y\n",
    "    {\\ }{\\ }{\\ }{\\ }\n",
    "    ({\\Delta}x{\\rightarrow}0, {\\Delta}x{\\rightarrow}0)\n",
    "\\\\\n",
    "f_{Y}(y)\n",
    "&= f_{X}(x)\n",
    "    \\frac{\\mathrm{d}x}{\\mathrm{d}y}\n",
    "\\\\\n",
    "&= f_{X}(x=\\frac{y-\\mathrm{a}}{\\mathrm{b}})\n",
    "    \\frac{\\mathrm{d}x}{\\mathrm{d}y}\n",
    "\\\\\n",
    "&= f_{X}(x=\\frac{y-\\mathrm{a}}{\\mathrm{b}})\n",
    "    \\frac{1}{\\mathrm{b}}\n",
    "\\\\\n",
    "&= \\frac{1}{\\mathrm{b}} f_{X}(x=\\frac{y-\\mathrm{a}}{\\mathrm{b}})\n",
    "\\\\\n",
    "\\end{align*}\n",
    "$$"
   ]
  },
  {
   "cell_type": "markdown",
   "metadata": {},
   "source": [
    "$\n",
    "f_{Y}(y) = \\frac{1}{\\mathrm{b}} f_{X}(x=\\frac{y-\\mathrm{a}}{\\mathrm{b}}),\n",
    "{\\ }\n",
    "$\n",
    "if $Y = \\mathrm{a} + \\mathrm{b}X$."
   ]
  },
  {
   "cell_type": "markdown",
   "metadata": {},
   "source": [
    "## 3. Let $X$ and $Y$ be random vectors with means and variances,\n",
    "$\n",
    "\\mathrm{E}\\boldsymbol{X}\n",
    "= \\pmatrix{\n",
    "    10\n",
    "    \\\\\n",
    "    15\n",
    "    \\\\\n",
    "    20\n",
    "    }\n",
    "$,\n",
    "$\\mathrm{var}\\boldsymbol{X}\n",
    "= \\pmatrix{\n",
    "    10 & 5 & -5\n",
    "    \\\\\n",
    "    5 & 15 & 0\n",
    "    \\\\\n",
    "    -5 & 0 & 20\n",
    "    }\n",
    "$,\n",
    "\n",
    "$\n",
    "\\mathrm{E}\\boldsymbol{Y}\n",
    "= \\pmatrix{\n",
    "    2\n",
    "    \\\\\n",
    "    2\n",
    "    \\\\\n",
    "    2\n",
    "    }\n",
    "$,\n",
    "$\\mathrm{var}\\boldsymbol{Y}\n",
    "= \\pmatrix{\n",
    "    1 & 0.5 & 0.5\n",
    "    \\\\\n",
    "    0.5 & 1 & 0.5\n",
    "    \\\\\n",
    "    0.5 & 0.5 & 1\n",
    "    }\n",
    "$, and let \n",
    "$\\mathrm{ \\boldsymbol{a} }\n",
    "= \\pmatrix{\n",
    "    1\n",
    "    \\\\\n",
    "    -2\n",
    "    \\\\\n",
    "    5\n",
    "    }\n",
    "$ be a fixied vector."
   ]
  },
  {
   "cell_type": "code",
   "execution_count": 200,
   "metadata": {},
   "outputs": [],
   "source": [
    "import numpy as np\n",
    "EX = np.array([\n",
    "                [10],\n",
    "                [15],\n",
    "                [20]]\n",
    ")\n",
    "varX = np.array([[10, 5, -5],\n",
    "                 [5, 15, 0],\n",
    "                 [-5, 0, 20]]\n",
    "               )\n",
    "\n",
    "EY = np.array([\n",
    "                [2],\n",
    "                [2],\n",
    "                [2]]\n",
    ")\n",
    "varY = np.array([[1, 0.5, 0.5],\n",
    "                 [0.5, 1, 0.5],\n",
    "                 [0.5, 0.5, 1]]\n",
    "               )\n",
    "a = np.array([\n",
    "    [1],\n",
    "    [-2],\n",
    "    [5]]\n",
    ")"
   ]
  },
  {
   "cell_type": "markdown",
   "metadata": {},
   "source": [
    "### (a) Find $\\mathrm{E}[\\boldsymbol{a}^\\mathrm{T}\\boldsymbol{X}]$\n",
    "$$\n",
    "\\begin{align*}\n",
    "\\mathrm{E}[\\boldsymbol{a}^{\\mathrm{T}}\\boldsymbol{X}]\n",
    "&= \\boldsymbol{a}^{T} \\mathrm{E}[\\boldsymbol{X}]\n",
    "\\\\\n",
    "&=\n",
    "80\n",
    "\\end{align*}\n",
    "$$"
   ]
  },
  {
   "cell_type": "code",
   "execution_count": 201,
   "metadata": {},
   "outputs": [
    {
     "data": {
      "text/plain": [
       "array([[80]])"
      ]
     },
     "execution_count": 201,
     "metadata": {},
     "output_type": "execute_result"
    }
   ],
   "source": [
    "np.matmul(a.T,EX)"
   ]
  },
  {
   "cell_type": "markdown",
   "metadata": {},
   "source": [
    "### (b) Find $\\mathrm{E}[\\boldsymbol{X} + \\boldsymbol{Y}]$.\n",
    "$$\n",
    "\\begin{align*}\n",
    "\\mathrm{E}[\\boldsymbol{X} + \\boldsymbol{Y}]\n",
    "&=\n",
    "\\mathrm{E}[\\boldsymbol{X}] + \\mathrm{E}[\\boldsymbol{Y}]\n",
    "\\\\\n",
    "&=\n",
    "\\pmatrix{}\n",
    "\\end{align*}\n",
    "$$"
   ]
  },
  {
   "cell_type": "code",
   "execution_count": 202,
   "metadata": {},
   "outputs": [
    {
     "data": {
      "text/plain": [
       "array([[12],\n",
       "       [17],\n",
       "       [22]])"
      ]
     },
     "execution_count": 202,
     "metadata": {},
     "output_type": "execute_result"
    }
   ],
   "source": [
    "EX+EY"
   ]
  },
  {
   "cell_type": "markdown",
   "metadata": {},
   "source": [
    "### (c) Find $ \\mathrm{var}[\\boldsymbol{a}^\\mathrm{T} \\boldsymbol{X}] $.\n",
    "$$\n",
    "\\begin{align*}\n",
    "\\mathrm{var}[\\boldsymbol{a}^\\mathrm{T} \\boldsymbol{X}]\n",
    "&=\n",
    "\\boldsymbol{a}^\\mathrm{T} \\mathrm{var}[\\boldsymbol{X}] \\boldsymbol{a}\n",
    "\\\\\n",
    "&= 500\n",
    "\\end{align*}\n",
    "$$\n"
   ]
  },
  {
   "cell_type": "code",
   "execution_count": 203,
   "metadata": {},
   "outputs": [
    {
     "data": {
      "text/plain": [
       "array([[500]])"
      ]
     },
     "execution_count": 203,
     "metadata": {},
     "output_type": "execute_result"
    }
   ],
   "source": [
    "np.matmul(np.matmul(a.T, varX), a)"
   ]
  },
  {
   "cell_type": "markdown",
   "metadata": {},
   "source": [
    "### (d) Find $ \\mathrm{var}[\\boldsymbol{X}+\\boldsymbol{Y}] $.\n",
    "$$\n",
    "\\begin{align*}\n",
    "\\mathrm{var}[\\boldsymbol{X}+\\boldsymbol{Y}]\n",
    "&=\n",
    "\\mathrm{var}[\\boldsymbol{X}] + \\mathrm{var}[\\boldsymbol{Y}] + 2{\\cdot}\\mathrm{cov}[\\boldsymbol{X,Y}]\n",
    "\\\\\n",
    "&=\n",
    "\\pmatrix{\n",
    "    11. &  5.5 & -4.5\n",
    "    \\\\\n",
    "    5.5 & 16. & 0.5\n",
    "    \\\\\n",
    "    -4.5 & 0.5 & 21.\n",
    "    }\n",
    "    +2{\\cdot}\\mathrm{cov}[\\boldsymbol{X,Y}]\n",
    "\\\\\n",
    "&=\n",
    "\\pmatrix{\n",
    "    11. &  5.5 & -4.5\n",
    "    \\\\\n",
    "    5.5 & 16. & 0.5\n",
    "    \\\\\n",
    "    -4.5 & 0.5 & 21.\n",
    "    }\n",
    "    {\\ \\ \\ }\n",
    "    (\\text{ if $X{$\\perp \\!\\!\\! \\perp$}Y$}).\n",
    "\\end{align*}\n",
    "$$\n"
   ]
  },
  {
   "cell_type": "code",
   "execution_count": 204,
   "metadata": {},
   "outputs": [
    {
     "data": {
      "text/plain": [
       "array([[11. ,  5.5, -4.5],\n",
       "       [ 5.5, 16. ,  0.5],\n",
       "       [-4.5,  0.5, 21. ]])"
      ]
     },
     "execution_count": 204,
     "metadata": {},
     "output_type": "execute_result"
    }
   ],
   "source": [
    "varX+varY"
   ]
  },
  {
   "cell_type": "markdown",
   "metadata": {},
   "source": [
    "\"\\\\$\\perp \\!\\!\\! \\perp\\\\$\" $\\rightarrow$ $\\perp \\!\\!\\! \\perp$"
   ]
  },
  {
   "cell_type": "markdown",
   "metadata": {},
   "source": [
    "### (e) Find $ \\mathrm{E}[\\boldsymbol{a}^\\mathrm{T} (\\boldsymbol{X} + \\boldsymbol{Y})] $.\n",
    "$$\n",
    "\\begin{align*}\n",
    "\\mathrm{E}[\\boldsymbol{a}^\\mathrm{T} (\\boldsymbol{X} + \\boldsymbol{Y})]\n",
    "&=\n",
    "\\mathrm{E}[\\boldsymbol{a}^\\mathrm{T} \\boldsymbol{X} + \\boldsymbol{a}^\\mathrm{T} \\boldsymbol{Y}]\n",
    "\\\\\n",
    "&=\n",
    "\\boldsymbol{a}^\\mathrm{T}\n",
    "\\mathrm{E}[\\boldsymbol{X}]\n",
    "+\n",
    "\\boldsymbol{a}^\\mathrm{T}\n",
    "\\mathrm{E}[\\boldsymbol{Y}]\n",
    "\\\\\n",
    "&= 88\n",
    "\\end{align*}\n",
    "$$"
   ]
  },
  {
   "cell_type": "code",
   "execution_count": 205,
   "metadata": {},
   "outputs": [
    {
     "data": {
      "text/plain": [
       "array([[88]])"
      ]
     },
     "execution_count": 205,
     "metadata": {},
     "output_type": "execute_result"
    }
   ],
   "source": [
    "np.matmul(a.T, EX) + np.matmul(a.T, EY)"
   ]
  },
  {
   "cell_type": "markdown",
   "metadata": {},
   "source": [
    "### (f) Find  $ \\mathrm{var}[\\boldsymbol{a}^\\mathrm{T} (\\boldsymbol{X} + \\boldsymbol{Y})]$.\n",
    "$$\n",
    "\\begin{align*}\n",
    "% -------------------------------------------------\n",
    "\\mathrm{var}[\\boldsymbol{a}^\\mathrm{T} (\\boldsymbol{X} + \\boldsymbol{Y})]\n",
    "&=\n",
    "\\mathrm{var}[\\boldsymbol{a}^\\mathrm{T} (\\boldsymbol{X} + \\boldsymbol{Y})]\n",
    "{\\ }\n",
    "{\\ }\\\\\n",
    "&=\n",
    "\\mathrm{var}[\n",
    "\\boldsymbol{a}^\\mathrm{T} \\boldsymbol{X}\n",
    "+\n",
    "\\boldsymbol{a}^\\mathrm{T} \\boldsymbol{Y}\n",
    "]\n",
    "% -------------------------------------------------\n",
    "\\\\\n",
    "&=\n",
    "\\mathrm{var}[\n",
    "\\boldsymbol{a}^\\mathrm{T} \\boldsymbol{X}\n",
    "]\n",
    "+\n",
    "\\mathrm{var}[\n",
    "\\boldsymbol{a}^\\mathrm{T} \\boldsymbol{Y}\n",
    "]\n",
    "+\n",
    "2{\\cdot}\\mathrm{cov}[\n",
    "\\boldsymbol{a}^\\mathrm{T} \\boldsymbol{X},\n",
    "\\boldsymbol{a}^\\mathrm{T} \\boldsymbol{Y}\n",
    "]\n",
    "\\\\\n",
    "% -------------------------------------------------\n",
    "&=\n",
    "\\boldsymbol{a}^{2}\n",
    "\\mathrm{var}[\\boldsymbol{X}]\n",
    "+\n",
    "\\boldsymbol{a}^{2}\n",
    "\\mathrm{var}[\\boldsymbol{Y}]\n",
    "+\n",
    "2{\\cdot}\n",
    "\\boldsymbol{a}^\\mathrm{T}\n",
    "\\mathrm{cov}[\n",
    "\\boldsymbol{X},\n",
    "\\boldsymbol{Y}\n",
    "]\n",
    "\\boldsymbol{a}\n",
    "\\\\\n",
    "% -------------------------------------------------\n",
    "&=\n",
    "\\boldsymbol{a}^{2}\n",
    "\\mathrm{var}[\\boldsymbol{X}]\n",
    "+\n",
    "\\boldsymbol{a}^{2}\n",
    "\\mathrm{var}[\\boldsymbol{Y}]\n",
    "+\n",
    "2{\\cdot}\n",
    "\\boldsymbol{a}^\\mathrm{T}\n",
    "\\mathrm{cov}[\n",
    "\\boldsymbol{X},\n",
    "\\boldsymbol{Y}\n",
    "]\n",
    "\\boldsymbol{a}\n",
    "\\\\\n",
    "% -------------------------------------------------\n",
    "&=\n",
    "\\boldsymbol{a}^{2}(\n",
    "\\mathrm{var}[\\boldsymbol{X}]\n",
    "+\n",
    "\\mathrm{var}[\\boldsymbol{Y}]\n",
    ")\n",
    "+\n",
    "2{\\cdot}\n",
    "\\boldsymbol{a}^\\mathrm{T}\n",
    "\\mathrm{cov}[\n",
    "\\boldsymbol{X},\n",
    "\\boldsymbol{Y}\n",
    "]\n",
    "\\boldsymbol{a}\n",
    "\\\\\n",
    "% -------------------------------------------------\n",
    "&=\n",
    "\\boldsymbol{a}^{2}(\n",
    "\\mathrm{var}[\\boldsymbol{X}]\n",
    "+\n",
    "\\mathrm{var}[\\boldsymbol{Y}]\n",
    ") \n",
    "{\\ \\ \\ \\ } (\\text{if X${\\perp \\!\\!\\! \\perp}$Y})\n",
    ",\\\\\n",
    "% -------------------------------------------------\n",
    "\\boldsymbol{a}^{2}(\n",
    "\\mathrm{var}[\\boldsymbol{X}]\n",
    "+\n",
    "\\mathrm{var}[\\boldsymbol{Y}]\n",
    ")\n",
    "&=\n",
    "\\pmatrix{\n",
    "330 & 165 & -135\n",
    "\\\\\n",
    "165 & 480 & 15\n",
    "\\\\\n",
    "-135 & 15 & 630\n",
    "}.\n",
    "\\end{align*}\n",
    "$$"
   ]
  },
  {
   "cell_type": "code",
   "execution_count": 206,
   "metadata": {},
   "outputs": [
    {
     "data": {
      "text/plain": [
       "array([[ 330.,  165., -135.],\n",
       "       [ 165.,  480.,   15.],\n",
       "       [-135.,   15.,  630.]])"
      ]
     },
     "execution_count": 206,
     "metadata": {},
     "output_type": "execute_result"
    }
   ],
   "source": [
    "np.matmul(a.T,a) * (varX+varY)"
   ]
  },
  {
   "cell_type": "markdown",
   "metadata": {},
   "source": [
    "## 4. Joint PDF.\n",
    "Let\n",
    "$ \\boldsymbol{X} = \\pmatrix{\n",
    "    X(u_{1})\n",
    "    \\\\\n",
    "    X(u_{2})\n",
    "    \\\\\n",
    "    X(u_{3})\n",
    "} $\n",
    "include the random variable X at spatial locations $u_{1} = (1, 0)$, $u_{2} = (0, 0)$, and\n",
    "$u_{3} = (0, 2)$.\n",
    "Let $\\boldsymbol{X}$ be normally distributed so that the mean and variance of the marginal distribution are\n",
    "$\\mu_{i} = 0$ and ${\\sigma}_{i}^{2} = 2^2$ for all locations $u_{i}$.\n",
    "\n",
    "1. (a) Assuming that ${\\rho}_{ij} = 0$, find the probability that all $X(u_{i}) > 1$.\n",
    "2. (b) Assuming that ${\\rho}_{ij} = \\mathrm{e}^{-\\frac{s_{ij}}{2}}$, where $s_{ij} = \\|u_{i}-u{j}\\|$ find the probability that all X(ui) > 1."
   ]
  },
  {
   "cell_type": "markdown",
   "metadata": {},
   "source": [
    "Joint PDF of $X_{i}$ is\n",
    "$$\n",
    "\\begin{align*}\n",
    "% ----------------------------------------------\n",
    "f(x_{i}|{\\mu},{\\Sigma})\n",
    "% ----------------------------------------------\n",
    "&=\n",
    "\\frac{1}{ \\sqrt{(2\\pi)^{3}} }\n",
    "|\\Sigma|^{-\\frac{1}{2}}\n",
    "\\mathrm{e}^{\\frac{1}{2} (x_{i} - {\\mu})^{\\mathrm{T}} {\\Sigma}^{-1} (x_{i} - {\\mu}) }\n",
    "% ----------------------------------------------\n",
    "\\end{align*}\n",
    "$$\n",
    "where ${\\mu}$ and ${\\Sigma}$ are mean and variance covariance matrix."
   ]
  },
  {
   "cell_type": "markdown",
   "metadata": {},
   "source": [
    "### (a) ${\\rho}_{ij} = 0$, find the $P[X(u_{i})>1]$.\n",
    "Now $\\mu = \\boldsymbol{0}$ and $ \\Sigma = \\boldsymbol{\\mathrm{e}}_3$.\n",
    "Joint PDF of $X_i$ is\n",
    "$$\n",
    "\\begin{align*}\n",
    "% ----------------------------------------------\n",
    "f(x_{i}|{\\mu},{\\Sigma})\n",
    "% ----------------------------------------------\n",
    "&=\n",
    "\\frac{1}{ \\sqrt{(2\\pi)^{3}} }\n",
    "\\mathrm{e}^{x_{i}}\n",
    "% ----------------------------------------------\n",
    "\\end{align*}\n",
    "$$"
   ]
  },
  {
   "cell_type": "markdown",
   "metadata": {},
   "source": [
    "$$\n",
    "\\begin{align*}\n",
    "% ----------------------------------------------\n",
    "\\int_{1}^{\\infty}{ f(x_{i}|{\\mu},{\\Sigma}) } \\mathrm{d}x_{i}\n",
    "% ----------------------------------------------\n",
    "&=\n",
    "1-\n",
    "\\int_{-\\infty}^{1}{ \n",
    "\\frac{1}{ \\sqrt{(2\\pi)^{3}} }\n",
    "\\mathrm{e}^{x_{i}}\n",
    "\\mathrm{d}{x_{i}}\n",
    "}\n",
    "% ----------------------------------------------\n",
    "\\\\\n",
    "&=\n",
    "1-\n",
    "\\frac{1}{ \\sqrt{(2\\pi)^{3}} }\n",
    "\\left[\n",
    "\\mathrm{e}^{x_{i}}\n",
    "\\right]_{-\\infty}^{1}\n",
    "% ----------------------------------------------\n",
    "\\\\\n",
    "&=\n",
    "1-\n",
    "\\frac{1}{ \\sqrt{(2\\pi)^{3}} }\n",
    "\\left[\n",
    "\\mathrm{e}^{1} - \\mathrm{e}^{-\\infty}\n",
    "\\right]\n",
    "% ----------------------------------------------\n",
    "\\\\\n",
    "&=\n",
    "1-\n",
    "\\frac{1}{ \\sqrt{(2\\pi)^{3}} } \\mathrm{e}\n",
    "% ----------------------------------------------\n",
    "\\end{align*}\n",
    "$$"
   ]
  },
  {
   "cell_type": "markdown",
   "metadata": {},
   "source": [
    "$$\n",
    "\\begin{align*}\n",
    "%------------------------------\n",
    "P[X_{i}>1]\n",
    "&=\n",
    "\\left\\{ \n",
    "    \\int_{1}^{\\infty}{ f(x_{i}|{\\mu},{\\Sigma}) } \\mathrm{d}x_{i}\n",
    "\\right\\}^{3}\n",
    "\\\\\n",
    "%------------------------------\n",
    "&=\n",
    "\\left\\{\n",
    "    1 - \\frac{1}{ \\sqrt{(2\\pi)^{3}} } \\mathrm{e}\n",
    "\\right\\}^{3}\n",
    "%------------------------------\n",
    "\\end{align*}\n",
    "$$"
   ]
  },
  {
   "cell_type": "markdown",
   "metadata": {},
   "source": [
    "### (b) ${\\rho}_{ij} = \\mathrm{e}^{-\\frac{s_{ij}}{2}}$, where $s_{ij} = \\|u_{i}-u{j}\\|$, find the $P[X(u_{i})>1]$.\n",
    "Now $\\mu = \\boldsymbol{0}$ and \n",
    "$ \\Sigma = 2^{2}\n",
    "\\pmatrix{\n",
    "    1 & 0.61 & 0.33\n",
    "    \\\\\n",
    "    0.1 & 1 & 0.37\n",
    "    \\\\\n",
    "    0.33 & 0.37 & 1\n",
    "    }$."
   ]
  },
  {
   "cell_type": "code",
   "execution_count": 207,
   "metadata": {},
   "outputs": [],
   "source": [
    "N_sample = 10000000\n",
    "mu = np.array([0,0,0])\n",
    "sigma = 2*2*np.array([\n",
    "            [1,0.61,0.33],\n",
    "            [0.1,1,0.37],\n",
    "            [0.33,0.37,1]\n",
    "            ])\n",
    "sigma_inv = np.linalg.inv(sigma)\n",
    "coef=np.power(2*np.pi, -3/2)"
   ]
  },
  {
   "cell_type": "code",
   "execution_count": 208,
   "metadata": {},
   "outputs": [
    {
     "name": "stderr",
     "output_type": "stream",
     "text": [
      "C:\\Users\\indiakilo\\Anaconda3\\envs\\ML\\lib\\site-packages\\ipykernel_launcher.py:1: RuntimeWarning: covariance is not symmetric positive-semidefinite.\n",
      "  \"\"\"Entry point for launching an IPython kernel.\n"
     ]
    },
    {
     "data": {
      "text/plain": [
       "0.0771592"
      ]
     },
     "execution_count": 208,
     "metadata": {},
     "output_type": "execute_result"
    }
   ],
   "source": [
    "Xi = np.random.multivariate_normal(mean=mu, cov=sigma, size=N_sample)\n",
    "N_Xi_GreaterThan_1 = np.sum(np.mean(Xi>1, axis=1)==1)\n",
    "P_Xi_GreaterThan_1 = N_Xi_GreaterThan_1 / N_sample\n",
    "P_Xi_GreaterThan_1"
   ]
  },
  {
   "cell_type": "markdown",
   "metadata": {},
   "source": [
    "$ P[X_{i}>1] {{\\ }\\approx {\\ }}0.0770629 $"
   ]
  },
  {
   "cell_type": "markdown",
   "metadata": {},
   "source": [
    "## 5. Sampling size\n",
    "Color blindness appears in 1% of the the people in a certain population. How large must a sample be if the probability of its containing a color-blind person is to be 0.95 or more? (Assume that the population is large enough to be considered as infinite, so that sampling can be considered to be with replacement)"
   ]
  },
  {
   "cell_type": "markdown",
   "metadata": {},
   "source": [
    "$p_\\mathrm{no}$ a probability that no color blind person is in the $n$-samples is\n",
    "$$\n",
    "p_\\mathrm{no} = (1-\\frac{1}{100})^n.\n",
    "$$\n",
    "a probability that at least one who has color blind is in the $n$-samples is \n",
    "$$\n",
    "\\begin{align*}\n",
    "%-------------------------------------------------\n",
    "p_\\mathrm{AtLeastOne}\n",
    "&=\n",
    "1-p_\\mathrm{no}\n",
    "\\\\\n",
    "%-------------------------------------------------\n",
    "p_\\mathrm{AtLeastOne}\n",
    "&=\n",
    "1-(1-\\frac{1}{100})^{n},\n",
    "%-------------------------------------------------\n",
    "\\end{align*}\n",
    "$$"
   ]
  },
  {
   "cell_type": "markdown",
   "metadata": {},
   "source": [
    "Consider that $ p_\\mathrm{AtLeastOne} \\ge 0.95$,\n",
    "$$\n",
    "\\begin{align*}\n",
    "%-------------------------------------------------\n",
    "p_\\mathrm{AtLeastOne}\n",
    "&{\\ }{\\ge}{\\ }\n",
    "0.95\n",
    "\\\\\n",
    "%-------------------------------------------------\n",
    "1-(1-\\frac{1}{100})^{n}\n",
    "&{\\ }{\\ge}{\\ }\n",
    "0.95\n",
    "\\\\\n",
    "%-------------------------------------------------\n",
    "1-0.95\n",
    "&{\\ }{\\ge}{\\ }\n",
    "(1-\\frac{1}{100})^{n}\n",
    "\\\\\n",
    "%-------------------------------------------------\n",
    "\\frac{5}{100}\n",
    "&{\\ }{\\ge}{\\ }\n",
    "(\\frac{99}{100})^{n}\n",
    "\\\\\n",
    "%-------------------------------------------------\n",
    "\\log{0.05}\n",
    "&{\\ }{\\ge}{\\ }\n",
    "{n} (\\log{0.99})\n",
    "\\\\\n",
    "%-------------------------------------------------\n",
    "\\frac\n",
    "{\\log{0.05}}\n",
    "{\\log{0.99}}\n",
    "&{\\ }{\\lt}{\\ }\n",
    "{n}\n",
    "{\\ \\ \\ \\ \\ }(\\log{0.99}<0)\n",
    "\\\\\n",
    "%-------------------------------------------------\n",
    "298.07285221320603\n",
    "&{\\ }{\\lt}{\\ }\n",
    "{n} \n",
    "\\\\\n",
    "%-------------------------------------------------\n",
    "\\end{align*}\n",
    "$$"
   ]
  },
  {
   "cell_type": "markdown",
   "metadata": {},
   "source": [
    "To meet $n>299$ are needed ($n$ is a number of sample)."
   ]
  },
  {
   "cell_type": "code",
   "execution_count": 229,
   "metadata": {},
   "outputs": [
    {
     "data": {
      "text/plain": [
       "-2.995732273553991"
      ]
     },
     "execution_count": 229,
     "metadata": {},
     "output_type": "execute_result"
    }
   ],
   "source": [
    "np.log(0.05)"
   ]
  },
  {
   "cell_type": "code",
   "execution_count": 230,
   "metadata": {},
   "outputs": [
    {
     "data": {
      "text/plain": [
       "-0.01005033585350145"
      ]
     },
     "execution_count": 230,
     "metadata": {},
     "output_type": "execute_result"
    }
   ],
   "source": [
    "np.log(0.99)"
   ]
  },
  {
   "cell_type": "code",
   "execution_count": 218,
   "metadata": {},
   "outputs": [
    {
     "data": {
      "text/plain": [
       "298.07285221320603"
      ]
     },
     "execution_count": 218,
     "metadata": {},
     "output_type": "execute_result"
    }
   ],
   "source": [
    "(np.log(5)-np.log(100))/(np.log(99)-np.log(100))"
   ]
  }
 ],
 "metadata": {
  "kernelspec": {
   "display_name": "Python 3",
   "language": "python",
   "name": "python3"
  },
  "language_info": {
   "codemirror_mode": {
    "name": "ipython",
    "version": 3
   },
   "file_extension": ".py",
   "mimetype": "text/x-python",
   "name": "python",
   "nbconvert_exporter": "python",
   "pygments_lexer": "ipython3",
   "version": "3.7.3"
  }
 },
 "nbformat": 4,
 "nbformat_minor": 4
}
