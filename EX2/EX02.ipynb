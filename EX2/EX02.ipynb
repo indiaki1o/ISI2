{
 "cells": [
  {
   "cell_type": "markdown",
   "metadata": {},
   "source": [
    "2nd EXERCISE SESSION\n",
    "===\n",
    "|**NAME**| **KENICHI ITO** |\n",
    "| :- | :- |\n",
    "|**STUDENT ID**|**305056**|"
   ]
  },
  {
   "cell_type": "markdown",
   "metadata": {},
   "source": [
    "# Exercises 2"
   ]
  },
  {
   "cell_type": "markdown",
   "metadata": {},
   "source": [
    "## 1. ${k}^{th}$ smallest observation $X_{k:n}$ in $n$ sampling"
   ]
  },
  {
   "cell_type": "code",
   "execution_count": 1,
   "metadata": {},
   "outputs": [],
   "source": [
    "import scipy\n",
    "import scipy.stats\n",
    "import numpy as np\n",
    "import matplotlib\n",
    "import matplotlib.pyplot as plt\n",
    "from matplotlib import cm\n",
    "\n",
    "# matplotlib.rc('text', usetex=True)\n",
    "# params = {'text.latex.preamble': [r\"\\usepackage{amsmath}\"]}\n",
    "# matplotlib.rcParams['text.latex.preamble']=[r\"\\usepackage{amsmath}\"]\n",
    "# plt.rcParams.update(params)\n",
    "\n",
    "tab10 = cm.get_cmap(name=\"tab10\")\n",
    "cols = tab10.colors[0:3]"
   ]
  },
  {
   "cell_type": "markdown",
   "metadata": {},
   "source": [
    "### (a) Assuming $X_i \\sim \\mathrm{Uniform}(0,10)$."
   ]
  },
  {
   "cell_type": "code",
   "execution_count": 2,
   "metadata": {},
   "outputs": [],
   "source": [
    "# for X_2:4\n",
    "X_n4 = scipy.stats.uniform(0,10).rvs(size=4) #[scipy.stats.uniform(0,10) for x in range(4)]\n",
    "X_2to4  = np.sort(X_n4)[0:2]\n",
    "\n",
    "# for X_2:10\n",
    "X_n10  = scipy.stats.uniform(0,10).rvs(size=10) #[scipy.stats.uniform(0,10) for x in range(10)]\n",
    "X_2to10= np.sort(X_n10)[0:4]\n",
    "\n",
    "# for X_10:10\n",
    "X_n10  = scipy.stats.uniform(0,10).rvs(size=10) #[scipy.stats.uniform(0,10) for x in range(10)]\n",
    "X_10to10= np.sort(X_n10)[0:10]"
   ]
  },
  {
   "cell_type": "code",
   "execution_count": 3,
   "metadata": {},
   "outputs": [
    {
     "data": {
      "text/plain": [
       "<matplotlib.legend.Legend at 0x1886dd1eb38>"
      ]
     },
     "execution_count": 3,
     "metadata": {},
     "output_type": "execute_result"
    },
    {
     "data": {
      "image/png": "[encoded data removed]",
      "text/plain": [
       "<Figure size 432x288 with 1 Axes>"
      ]
     },
     "metadata": {
      "needs_background": "light"
     },
     "output_type": "display_data"
    }
   ],
   "source": [
    "plt.scatter(range(1,len(X_2to4)+1), X_2to4)\n",
    "plt.scatter(range(1,len(X_2to10)+1), X_2to10)\n",
    "plt.scatter(range(1,len(X_10to10)+1), X_10to10)\n",
    "plt.grid(True)\n",
    "plt.xlim(1,10)\n",
    "plt.ylim(0,10)\n",
    "\n",
    "plt.xlabel(\"$k^{th}$ smallest sample\")\n",
    "plt.ylabel(\"Random variate\")\n",
    "plt.legend([\"$X_{2:4}$\",\"$X_{2:10}$\",\"$X_{10:10}$\"], loc=\"lower right\", fontsize=14)"
   ]
  },
  {
   "cell_type": "markdown",
   "metadata": {},
   "source": [
    "### (b.1) Assuming $X_i \\sim \\mathrm{Exponential}(x|\\lambda=2) = {\\lambda} \\mathrm{e}^{-\\lambda x} \\text{ if } x{\\ge}0 \\text{ otherwise } 0$."
   ]
  },
  {
   "cell_type": "code",
   "execution_count": 4,
   "metadata": {},
   "outputs": [],
   "source": [
    "# for X_2:4\n",
    "X_n4 = scipy.stats.expon(scale=2).rvs(size=4) #[scipy.stats.uniform(0,10) for x in range(4)]\n",
    "X_2to4_expon  = np.sort(X_n4)[0:2]\n",
    "\n",
    "# for X_2:10\n",
    "X_n10  = scipy.stats.expon(scale=2).rvs(size=10) #[scipy.stats.uniform(0,10) for x in range(10)]\n",
    "X_2to10_expon= np.sort(X_n10)[0:4]\n",
    "\n",
    "# for X_10:10\n",
    "X_n10  = scipy.stats.expon(scale=2).rvs(size=10) #[scipy.stats.uniform(0,10) for x in range(10)]\n",
    "X_10to10_expon= np.sort(X_n10)[0:10]"
   ]
  },
  {
   "cell_type": "code",
   "execution_count": 5,
   "metadata": {},
   "outputs": [
    {
     "data": {
      "image/png": "[encoded data removed]",
      "text/plain": [
       "<Figure size 576x432 with 1 Axes>"
      ]
     },
     "metadata": {
      "needs_background": "light"
     },
     "output_type": "display_data"
    }
   ],
   "source": [
    "plt.figure(figsize=(8, 6))\n",
    "ax = plt.subplot(111)\n",
    "box = ax.get_position()\n",
    "ax.set_position([box.x0, box.y0, box.width, box.height*0.8])\n",
    "#%\n",
    "ax.scatter(range(1,len(X_2to4_expon)+1), X_2to4_expon, marker=\"o\", color=cols[0])\n",
    "ax.scatter(range(1,len(X_2to10_expon)+1), X_2to10_expon, marker=\"o\",  color=cols[1])\n",
    "ax.scatter(range(1,len(X_10to10_expon)+1), X_10to10_expon, marker=\"o\",  color=cols[2])\n",
    "\n",
    "ax.scatter(range(1,len(X_2to4)+1), X_2to4, marker=\"x\",  color=cols[0])\n",
    "ax.scatter(range(1,len(X_2to10)+1), X_2to10, marker=\"x\",  color=cols[1])\n",
    "ax.scatter(range(1,len(X_10to10)+1), X_10to10, marker=\"x\",  color=cols[2])\n",
    "\n",
    "#%\n",
    "ax.grid(True)\n",
    "ax.set_xlim(1,10)\n",
    "    \n",
    "ax.set_xlabel(\"$k^{th}$ smallest sample\")\n",
    "ax.set_ylabel(\"Random variate\")\n",
    "lgd = ax.legend([\"$X_{2:4}$\",\"$X_{2:10}$\",\"$X_{10:10}$\"], loc=\"upper left\", fontsize=12)\n",
    "\n",
    "lgd_xy=(0,1.25)\n",
    "dummies = [ax.scatter([], [], c=\"k\",marker=\"o\"),\n",
    "           ax.scatter([], [], c=\"k\", marker=\"x\")]\n",
    "ax.legend(dummies, [\"$\\mathrm{Exponential}(2)$\",\"$\\mathrm{Uniform}(0,10)$\"],\n",
    "          loc=\"upper left\", fontsize=12,  bbox_to_anchor=lgd_xy)\n",
    "\n",
    "_= ax.add_artist(lgd)"
   ]
  },
  {
   "cell_type": "markdown",
   "metadata": {},
   "source": [
    "### (b.2) Assuming $X_i \\sim \\mathcal{N}(\\mu=0,\\,\\sigma^{2}={2.9}^{2})$."
   ]
  },
  {
   "cell_type": "code",
   "execution_count": 6,
   "metadata": {},
   "outputs": [],
   "source": [
    "# for X_2:4\n",
    "X_n4 = scipy.stats.norm(loc=0, scale=2.9**2).rvs(size=4) #[scipy.stats.uniform(0,10) for x in range(4)]\n",
    "X_2to4_norm  = np.sort(X_n4)[0:2]\n",
    "\n",
    "# for X_2:10\n",
    "X_n10  =scipy.stats.norm(loc=0, scale=2.9**2).rvs(size=10) #[scipy.stats.uniform(0,10) for x in range(10)]\n",
    "X_2to10_norm= np.sort(X_n10)[0:4]\n",
    "\n",
    "# for X_10:10\n",
    "X_n10  = scipy.stats.norm(loc=0, scale=2.9**2).rvs(size=10) #[scipy.stats.uniform(0,10) for x in range(10)]\n",
    "X_10to10_norm= np.sort(X_n10)[0:10]"
   ]
  },
  {
   "cell_type": "code",
   "execution_count": 7,
   "metadata": {},
   "outputs": [
    {
     "data": {
      "image/png": "[encoded data removed]",
      "text/plain": [
       "<Figure size 576x432 with 1 Axes>"
      ]
     },
     "metadata": {
      "needs_background": "light"
     },
     "output_type": "display_data"
    }
   ],
   "source": [
    "plt.figure(figsize=(8, 6))\n",
    "ax = plt.subplot(111)\n",
    "box = ax.get_position()\n",
    "ax.set_position([box.x0, box.y0, box.width, box.height*0.8])\n",
    "#%\n",
    "ax.scatter(range(1,len(X_2to4_norm)+1), X_2to4_norm, marker=\"o\", color=cols[0])\n",
    "ax.scatter(range(1,len(X_2to10_norm)+1), X_2to10_norm, marker=\"o\",  color=cols[1])\n",
    "ax.scatter(range(1,len(X_10to10_norm)+1), X_10to10_norm, marker=\"o\",  color=cols[2])\n",
    "\n",
    "ax.scatter(range(1,len(X_2to4)+1), X_2to4, marker=\"x\",  color=cols[0])\n",
    "ax.scatter(range(1,len(X_2to10)+1), X_2to10, marker=\"x\",  color=cols[1])\n",
    "ax.scatter(range(1,len(X_10to10)+1), X_10to10, marker=\"x\",  color=cols[2])\n",
    "\n",
    "#%\n",
    "ax.grid(True)\n",
    "ax.set_xlim(1,10)\n",
    "\n",
    "ax.set_xlabel(\"$k^{th}$ smallest sample\")\n",
    "ax.set_ylabel(\"Random variate\")\n",
    "lgd = ax.legend([\"$X_{2:4}$\",\"$X_{2:10}$\",\"$X_{10:10}$\"], loc=\"upper left\", fontsize=12)\n",
    "\n",
    "lgd_xy=(0,1.25)\n",
    "dummies = [ax.scatter([], [], c=\"k\",marker=\"o\"),\n",
    "           ax.scatter([], [], c=\"k\", marker=\"x\")]\n",
    "ax.legend(dummies, [\"$\\mathcal{N}(\\mu=0,\\,\\sigma^{2}={2.9}^{2})$\",\"$\\mathrm{Uniform}(0,10)$1\"],\n",
    "          loc=\"upper left\", fontsize=12,  bbox_to_anchor=lgd_xy)\n",
    "\n",
    "_= ax.add_artist(lgd)"
   ]
  },
  {
   "cell_type": "markdown",
   "metadata": {},
   "source": [
    "## 2. Statistic variation calculation\n",
    "Consider the following vector of numbers: $x = (2, 3, 3.5, 7, 10, 12)^\\mathrm{T}$, where $\\mathrm{T}$ signifies the transpose operator.\n",
    "Plot the function \n",
    "    $f(a)=\\sum_{i=1}^{6}{(x_{i}-a)^{2}}$\n",
    "as a function of a for $a {\\in} [2, 12]$.\n",
    "Which value of $a$ gives the minumum value of $f(a)$? Explain the result."
   ]
  },
  {
   "cell_type": "code",
   "execution_count": 25,
   "metadata": {},
   "outputs": [],
   "source": [
    "x = np.array([2,3,3.5,7,10,12]).T\n",
    "a_list = [2,12]\n",
    "\n",
    "def func_f(X_array, a):\n",
    "    return np.sum(np.power(X_array - a, 2))\n",
    "    "
   ]
  },
  {
   "cell_type": "code",
   "execution_count": 26,
   "metadata": {},
   "outputs": [
    {
     "name": "stdout",
     "output_type": "stream",
     "text": [
      "f(a= 2) = 192.2500\n",
      "f(a=12) = 282.2500\n"
     ]
    }
   ],
   "source": [
    "for a in a_list:\n",
    "    print( \"f(a={0:>2d}) = {1:>6.4f}\".format(a, func_f(x,a)) )"
   ]
  },
  {
   "cell_type": "code",
   "execution_count": 27,
   "metadata": {},
   "outputs": [
    {
     "name": "stdout",
     "output_type": "stream",
     "text": [
      "Mean of x: mean(X)=6.2500\n"
     ]
    }
   ],
   "source": [
    "print( \"Mean of x: mean(X)={0:>.4f}\".format(np.mean(x)) )"
   ]
  },
  {
   "cell_type": "code",
   "execution_count": 32,
   "metadata": {},
   "outputs": [
    {
     "data": {
      "text/plain": [
       "Text(0.5, 1.0, 'the Concave function $f(a)$')"
      ]
     },
     "execution_count": 32,
     "metadata": {},
     "output_type": "execute_result"
    },
    {
     "data": {
      "image/png": "[encoded data removed]",
      "text/plain": [
       "<Figure size 576x432 with 1 Axes>"
      ]
     },
     "metadata": {
      "needs_background": "light"
     },
     "output_type": "display_data"
    }
   ],
   "source": [
    "mean_x=np.mean(x)\n",
    "a_xlim=(mean_x-10,mean_x+10)\n",
    "A_lin = np.linspace(a_xlim[0],a_xlim[1],50)\n",
    "Y = [func_f(x,a) for a in A_lin]\n",
    "#%\n",
    "fig_ = plt.figure(figsize=(8,6))\n",
    "ax_  = plt.subplot(111)\n",
    "lin_fa = ax_.plot(A_lin,Y, label=\"$f(a)$\")\n",
    "lin_a0 = ax_.scatter(a_list[0], func_f(x,a_list[0]), marker=\"x\", s=40,\n",
    "                     label=\"$f(a={})$\".format(a_list[0]) )\n",
    "lin_a1 = ax_.scatter(a_list[1], func_f(x,a_list[1]), marker=\"x\", s=40,\n",
    "                     label=\"$f(a={})$\".format(a_list[1]) )\n",
    "lin_mean = ax_.scatter(mean_x, func_f(x,mean_x), marker=\"x\", s=40,\n",
    "                       label=\"$f(a=\\overline{\\mathbf{x}})$\")\n",
    "#%\n",
    "ax_.grid(True)\n",
    "ax_.legend()\n",
    "ax_.axes.set_xlabel(\"$ a $\")\n",
    "ax_.axes.set_ylabel(\"$ f(a) $\")\n",
    "ax_.axes.set_xlim(a_xlim[0:])\n",
    "ax_.axes.set_ylim(0,)\n",
    "ax_.axes.set_title(\"the Concave function $f(a)$\")"
   ]
  },
  {
   "cell_type": "markdown",
   "metadata": {},
   "source": [
    "As the result, $f(a=2) < f(a=12)$, so $a=2$ gave minimum in $a {\\in} [2, 12]$.\n",
    "From the theorem 2.1.:\n",
    "$$\n",
    "\\min_{a}\\sum_{i=1}^{n}{(x_i - a)^{2}}\n",
    "=\n",
    "\\min_{a}\\sum_{i=1}^{n}{(x_i - \\overline{\\boldsymbol{x}})^{2}},\n",
    "$$\n",
    "$f(a)$ become minimal when $a=\\overline{\\boldsymbol{x}}$.\n",
    "As you can see the figure above, $f(a)$ is concave function, which has the minimal value when $a=\\overline{\\boldsymbol{x}}$ as well."
   ]
  },
  {
   "cell_type": "markdown",
   "metadata": {},
   "source": [
    "## 3. Probability cumulative distribution function (*CDF*)\n",
    "The lifetime of a cellphone follows $\\mathrm{Exponential}(\\beta)$ distribution with $\\beta = 2$.\n",
    "The manufacturer guarantees that you will get a replacement phone if your phone gets broken within 2 years from the day of purchase.\n",
    "However, they will not make another replacement if the second phone gets broken within 2 years from the day you purchased the first one.\n",
    "\n",
    "* (a) Find the expected value and variance for the total lifetime of two cellphones.\n",
    "* (b) Find the *PDF* of the total lifetime of two cellphones.\n",
    "* (c) Find the probability that you will have a working cellphone 2 years from the day of purchase. A numerical approximation using R-function *integrate* is sufficient."
   ]
  },
  {
   "cell_type": "code",
   "execution_count": 250,
   "metadata": {},
   "outputs": [
    {
     "data": {
      "text/plain": [
       "Text(0.5, 1.0, 'Probability a mobile phone is alive until the time $t\\\\ \\\\mathrm{[Year]} {\\\\sim} \\\\mathrm{Exponential}(t|\\x08eta=2)$')"
      ]
     },
     "execution_count": 250,
     "metadata": {},
     "output_type": "execute_result"
    },
    {
     "data": {
      "image/png": "[encoded data removed]",
      "text/plain": [
       "<Figure size 576x432 with 1 Axes>"
      ]
     },
     "metadata": {
      "needs_background": "light"
     },
     "output_type": "display_data"
    }
   ],
   "source": [
    "expon = scipy.stats.expon(scale=2)\n",
    "xrange = (0,15)\n",
    "X_t  = np.linspace(xrange[0],xrange[1],1000)\n",
    "prob = expon.pdf(X_t)\n",
    "prob_2phone = 2*expon.pdf(X_t)\n",
    "cumul_prob = expon.cdf(X_t)\n",
    "cumul_prob_2phone = 2*expon.cdf(X_t)\n",
    "# expon_ccdf = lambda t: t + np.e**(-1/2*t) -1\n",
    "# ccdf_prob = expon_ccdf(X_t)\n",
    "p_zero = np.zeros(X_t.shape)\n",
    "#%\n",
    "fig_ = plt.figure(figsize=(8,6))\n",
    "ax_  = plt.subplot(111)\n",
    "lin_pdf = ax_.plot(X_t, prob, linewidth=2,\n",
    "                   label=\"$pdf$\")\n",
    "lin_pdf2 = ax_.plot(X_t, prob_2phone, linewidth=2, linestyle=\"--\",\n",
    "                   label=\"$pdf$ with two phone\")\n",
    "lin_cdf = ax_.plot(X_t, cumul_prob, linewidth=3, \n",
    "                     label=\"$cdf$\")\n",
    "# lin_cdf2 = ax_.plot(X_t, cumul_prob_2phone, linewidth=2, linestyle=\"--\",\n",
    "#                      label=\"$cdf$ with two phone\")\n",
    "lin_cpdf = ax_.plot(X_t, 1-prob, linewidth=2,\n",
    "                   label=\"$cpdf$: break down before $t$\")\n",
    "fill_    = ax_.fill_between(X_t, p_zero, prob, where=X_t<=2,\n",
    "                            color=\"k\", alpha=0.3,\n",
    "                            label=\"Alive until $t=2$\")\n",
    "# fill_    = ax_.fill_between(X_t, np.ones(X_t.shape), prob, where=X_t<=2,\n",
    "#                             color=\"red\", alpha=0.3,\n",
    "#                             label=\"Break down before $t=2$\")\n",
    "#%\n",
    "ax_.grid(True)\n",
    "ax_.legend()\n",
    "ax_.axes.set_xlabel(\"$ t {\\ } \\mathrm{[Year]} $\")\n",
    "ax_.axes.set_ylabel(\"Probability the phone is still alive\")\n",
    "xend=np.where(cumul_prob>0.999)[0][0]\n",
    "ax_.axes.set_xlim(xrange[0],X_t[xend])\n",
    "ax_.axes.set_ylim(0,)\n",
    "ax_.axes.set_title(\"Probability a mobile phone is alive until the time $t\\ \\mathrm{[Year]} {\\sim} \\mathrm{Exponential}(t|\\beta=2)$\")"
   ]
  },
  {
   "cell_type": "code",
   "execution_count": 253,
   "metadata": {},
   "outputs": [
    {
     "name": "stdout",
     "output_type": "stream",
     "text": [
      "P[t<2] = 0.6321205588285578 from integral function,\n",
      "P[t<2] = 0.6321205588285577 from cdf.\n",
      "Diff: 1.1102230246251565e-16.\n"
     ]
    }
   ],
   "source": [
    "# from integral (scipy.integrate)\n",
    "cumul_tle2 = scipy.integrate.quad(lambda t: expon.pdf(t), 0, 2)\n",
    "p_tle2_integral = cumul_tle2[0]\n",
    "\n",
    "# from cdf\n",
    "p_tle2_cdf = expon.cdf(2)\n",
    "\n",
    "# \n",
    "print(\"P[t<2] = {0:} from integral function,\\nP[t<2] = {1:} from cdf.\".format(p_tle2_integral, p_tle2_cdf))\n",
    "print(\"Diff: {}.\".format(abs(p_tle2_integral - p_tle2_cdf)) )"
   ]
  },
  {
   "cell_type": "markdown",
   "metadata": {},
   "source": [
    "$P[t<2\\ \\mathrm{year}] \\approx 0.6321205588285577$"
   ]
  },
  {
   "cell_type": "markdown",
   "metadata": {},
   "source": [
    "### (a)"
   ]
  },
  {
   "cell_type": "markdown",
   "metadata": {},
   "source": [
    "An expectated value of the total lifetime of two cellphones are calculated as\n",
    "$$\n",
    "\\begin{align*}\n",
    "%-------------------------\n",
    "\\mathrm{E}[X+X]\n",
    "&=\n",
    "2\\mathrm{E}[X]\n",
    "\\\\\n",
    "%-------------------------\n",
    "&=\n",
    "2\n",
    "\\int_{-\\infty}^{\\infty}\n",
    "    x\n",
    "    \\frac{1}{\\beta} \\mathrm{e}^{\\frac{-1}{\\beta}x}\n",
    "\\mathrm{d}x\n",
    "\\\\\n",
    "%-------------------------\n",
    "&=\n",
    "2\n",
    "\\frac{1}{\\beta}\n",
    "\\left[\n",
    "[\n",
    "    x \\frac{-1}{\\beta}\n",
    "    \\mathrm{e}^{\\frac{-1}{\\beta}x}\n",
    "]_{0}^{\\infty}\n",
    "-\n",
    "\\int_{0}^{\\infty}\n",
    "    x'\n",
    "    \\frac{-1}{\\beta}\n",
    "    \\mathrm{e}^{\\frac{-1}{\\beta}x}\n",
    "\\mathrm{d}x\n",
    "\\right]\n",
    "\\\\\n",
    "%-------------------------\n",
    "&=\n",
    "2\n",
    "\\frac{1}{\\beta}\n",
    "\\left[\n",
    "    \\frac{-1}{\\beta}\n",
    "    [    \n",
    "        \\lim_{x{\\rightarrow}{\\infty}}\n",
    "        \\frac{\n",
    "            \\frac{\\mathrm{d}}{\\mathrm{d}x}x\n",
    "        }{\n",
    "            \\frac{\\mathrm{d}}{\\mathrm{d}x}\\mathrm{e}^{\\frac{1}{\\beta}x}\n",
    "        }\n",
    "        - 0{\\cdot}\\mathrm{e}^{0}\n",
    "    ]\n",
    "-\n",
    "[\n",
    "    \\frac{-1}{\\beta}\n",
    "    \\frac{1}{\\frac{-1}{\\beta}}\n",
    "    \\mathrm{e}^{\\frac{-1}{\\beta}x}\n",
    "]_{0}^{\\infty}\n",
    "\\right]\n",
    "\\\\\n",
    "%-------------------------\n",
    "&=\n",
    "2\n",
    "\\frac{1}{\\beta}\n",
    "\\left[\n",
    "    \\frac{-1}{\\beta}\n",
    "    [    \n",
    "        \\frac{1}{\n",
    "            \\frac{1}{\\beta}\n",
    "            \\infty\n",
    "        }\n",
    "    ]\n",
    "-\n",
    "[    \n",
    "    \\mathrm{e}^{-{\\infty}}\n",
    "    -\n",
    "    \\mathrm{e}^{0}\n",
    "]\n",
    "\\right]\n",
    "\\\\\n",
    "%-------------------------\n",
    "&=\n",
    "2\n",
    "\\frac{1}{\\beta}\n",
    "\\left[\n",
    "0 - [0-1]\n",
    "\\right]\n",
    "\\\\\n",
    "%-------------------------\n",
    "&=\n",
    "2\\frac{1}{\\beta}\n",
    ".\n",
    "%-------------------------\n",
    "\\end{align*}\n",
    "$$\n"
   ]
  },
  {
   "cell_type": "markdown",
   "metadata": {},
   "source": [
    "An variance value of the total lifetime of two cellphones are calculated as\n",
    "$$\n",
    "\\begin{align*}\n",
    "%-------------------------\n",
    "\\mathrm{var}[X+X]\n",
    "&=\n",
    "\\mathrm{var}[2X]\n",
    "\\\\\n",
    "&=\n",
    "2^2\n",
    "\\mathrm{var}[X].\n",
    "\\end{align*}\n",
    "$$"
   ]
  },
  {
   "cell_type": "markdown",
   "metadata": {},
   "source": [
    "* $\\mathrm{E}\\left[ X^2 \\right]$\n",
    "$$\n",
    "\\begin{align*}\n",
    "%-------------------------------------------\n",
    "\\mathrm{E}\\left[ X^2 \\right]\n",
    "&=\n",
    "\\int_{0}^{\\infty}\n",
    "    x^2\n",
    "    \\frac{1}{\\beta} \\mathrm{e}^{\\frac{-1}{\\beta}x}\n",
    "\\mathrm{d}x\n",
    "\\\\\n",
    "%-------------------------------------------\n",
    "&=\n",
    "\\frac{1}{\\beta}\n",
    "\\left\\{\n",
    "    \\left[\n",
    "        x^2 \\frac{-1}{\\beta}\n",
    "        \\mathrm{e}^{\\frac{-1}{\\beta}x}\n",
    "    \\right]_{0}^{\\infty}\n",
    "    -\n",
    "    \\int_{0}^{\\infty}\n",
    "        {x^2}'\n",
    "        \\frac{-1}{\\beta}\n",
    "        \\mathrm{e}^{\\frac{-1}{\\beta}x}\n",
    "    \\mathrm{d}x\n",
    "\\right\\}\n",
    "\\\\\n",
    "%-------------------------------------------\n",
    "&=\n",
    "\\frac{1}{\\beta}\n",
    "\\left\\{\n",
    "    \\left[\n",
    "        \\frac{1}{ \\frac{1}{\\beta^2}{\\infty}}\n",
    "        -0 {\\cdot}\\mathrm{e}^0\n",
    "    \\right]\n",
    "    +2\n",
    "    \\frac{1}{\\beta}\n",
    "    \\left\\{\n",
    "        \\left[\n",
    "            x \\frac{-1}{\\beta}\n",
    "            \\mathrm{e}^{\\frac{-1}{\\beta}x}\n",
    "        \\right]_{0}^{\\infty}\n",
    "        -\n",
    "        \\int_{0}^{\\infty}\n",
    "            {x}'\n",
    "            \\frac{-1}{\\beta}\n",
    "            \\mathrm{e}^{\\frac{-1}{\\beta}x}\n",
    "        \\mathrm{d}x\n",
    "    \\right\\}\n",
    "\\right\\}\n",
    "\\\\\n",
    "%-------------------------------------------\n",
    "&=\n",
    "\\frac{2}{\\beta^2}\n",
    "\\left\\{\n",
    "    \\frac{-1}{\\beta}\n",
    "    \\left[    \n",
    "        \\frac{1}{ \\frac{-1}{\\beta}\\mathrm{e}^{\\infty}}\n",
    "        -0 {\\cdot}\\mathrm{e}^0\n",
    "    \\right]\n",
    "    -\n",
    "    \\left[\n",
    "        \\frac{-1}{\\beta}\n",
    "        \\frac{1}{\\frac{-1}{\\beta}}\n",
    "        \\mathrm{e}^{\\frac{-1}{\\beta}x}\n",
    "    \\right]_{0}^{\\infty}\n",
    "\\right\\}\n",
    "\\\\\n",
    "%-------------------------------------------\n",
    "&=\n",
    "\\frac{2}{\\beta^2}\n",
    "\\left\\{\n",
    "    -\n",
    "    \\left[\n",
    "        0-\\mathrm{e}^{0}\n",
    "    \\right]\n",
    "\\right\\}\n",
    "\\\\\n",
    "%-------------------------------------------\n",
    "&=\n",
    "\\frac{2}{\\beta^2}.\n",
    "\\\\\n",
    "%-------------------------------------------\n",
    "\\end{align*}\n",
    "$$"
   ]
  },
  {
   "cell_type": "markdown",
   "metadata": {},
   "source": [
    "* $\\mathrm{var}\\left[ X \\right]$\n",
    "$$\n",
    "\\begin{align*}\n",
    "%-------------------------------------------\n",
    "\\mathrm{var}\\left[ X \\right]\n",
    "&=\n",
    "\\mathrm{E}\\left[ X^2 \\right]-\\mathrm{E}[X]^2\n",
    "\\\\\n",
    "%-------------------------------------------\n",
    "&=\n",
    "\\frac{2}{{\\beta}^2} - \\left( \\frac{1}{\\beta} \\right)^2\n",
    "\\\\\n",
    "%-------------------------------------------\n",
    "&=\n",
    "\\frac{1}{{\\beta}^2}.\n",
    "\\\\\n",
    "%-------------------------------------------\n",
    "\\end{align*}\n",
    "$$"
   ]
  },
  {
   "cell_type": "markdown",
   "metadata": {},
   "source": [
    "Therefore, an variance $\\mathrm{var}[2X]$ is\n",
    "$$\n",
    "\\begin{align*}\n",
    "%-------------------------\n",
    "\\mathrm{var}[2X]\n",
    "&=\n",
    "2^2\n",
    "\\mathrm{var}[X]\n",
    "\\\\\n",
    "%-------------------------\n",
    "&=\n",
    "4\n",
    "\\frac{1}{{\\beta}^2}\n",
    "\\\\\n",
    "%-------------------------\n",
    "&=\n",
    "\\frac{4}{{\\beta}^2}.\n",
    "\\\\\n",
    "%-------------------------\n",
    "\\end{align*}\n",
    "$$"
   ]
  },
  {
   "cell_type": "markdown",
   "metadata": {},
   "source": [
    "Illustrate *pdf* and *cdf* of $\\mathrm{Exponential(\\beta=2)}$:"
   ]
  },
  {
   "cell_type": "markdown",
   "metadata": {},
   "source": [
    "## 4. \n",
    "Let $X$ be a random sample of size 10 from a $\\mathcal{N}(10, 5)$ population. Generate $M = 10000$ such samples from that population and compute $\\overline{x}$ and $s^2$ for each of these samples.\n",
    "\n",
    "* (a) Illustrate graphically the independence of these two statistics using a scatterplot of $s^2$ on $\\overline{x}$.\n",
    "\n",
    "* (b) Make a further illustration of the conditional distribution of $S^2|\\overline{X}$ as follows. Plot the values of $s^2$ in appropriately selected classes of $\\overline{x}$. Add a line that illustrates the theoretical pdf of $S^2|\\overline{X}$.\n",
    "\n",
    "* (c) Make a further illustration using the conditional distribution of $\\overline{X}|S^2$ as follows. Plot the values of $\\overline{x}$ in appropriately selected classes of $s^2$. Add a line that illustrates the theoretical distribution of $\\overline{X}|S^2$."
   ]
  },
  {
   "cell_type": "code",
   "execution_count": null,
   "metadata": {},
   "outputs": [],
   "source": []
  }
 ],
 "metadata": {
  "kernelspec": {
   "display_name": "Python 3",
   "language": "python",
   "name": "python3"
  },
  "language_info": {
   "codemirror_mode": {
    "name": "ipython",
    "version": 3
   },
   "file_extension": ".py",
   "mimetype": "text/x-python",
   "name": "python",
   "nbconvert_exporter": "python",
   "pygments_lexer": "ipython3",
   "version": "3.7.3"
  }
 },
 "nbformat": 4,
 "nbformat_minor": 4
}
