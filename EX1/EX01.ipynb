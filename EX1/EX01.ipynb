{
 "cells": [
  {
   "cell_type": "markdown",
   "metadata": {},
   "source": [
    "1st EXERCISE SESSION\n",
    "===\n",
    "|**NAME**| **KENICHI ITO** |\n",
    "| :- | :- |\n",
    "|**STUDENT ID**|**305056**|"
   ]
  },
  {
   "cell_type": "markdown",
   "metadata": {},
   "source": [
    "# Exercises 1"
   ]
  },
  {
   "cell_type": "markdown",
   "metadata": {},
   "source": [
    "## 1. Let random variable X follow the Exponential($\\beta$) distribution which has the cdf\n",
    "$$\n",
    "F(x)=1-\\mathrm{e}^{-\\frac{1}{\\beta}x}\n",
    "$$\n",
    "\n",
    "Let $\\beta = 2$. Consider random varaible $Y = 5X$.\n",
    "1. (a) Find the cdf of $Y$ .\n",
    "2. (b) Find the pdf of $Y$ .\n",
    "3. (c) Illustrate graphically the functions in (a) and (b)."
   ]
  },
  {
   "cell_type": "markdown",
   "metadata": {},
   "source": [
    "Now,\n",
    "$$\n",
    "F_{X}(x)=1-\\mathrm{e}^{-\\frac{1}{2}x}, \n",
    "\\\\\n",
    "\\ \\mathrm{and} \\ \n",
    "F_{X}(x=\\infty) \\ne 1\n",
    "$$\n",
    "Thus, I assumed that $f_{X}(x)$ which is PDF of $X$, are 0 in $x<0$ since $F_{X}(x)<0$ in $x<0$.\n",
    "Then,\n",
    "$$\n",
    "\\begin{align*}\n",
    "F_{X}(x) &= \\left\\{\n",
    "    \\begin{array}{cl}\n",
    "        0 \n",
    "        & (x{\\lt}0)\n",
    "    \\\\\n",
    "        1 - \\mathrm{e}^{-\\frac{1}{2}x}\n",
    "        & \n",
    "        (x{\\ge}0)\n",
    "    \\end{array}\n",
    "\\right.\n",
    ",\n",
    "\\\\\n",
    "F_{X}(x=\\infty) &= 1\n",
    "\\end{align*}\n",
    "$$"
   ]
  },
  {
   "cell_type": "markdown",
   "metadata": {},
   "source": [
    "PDF of $X$ is\n",
    "\n",
    "$$\n",
    "\\begin{align*}\n",
    "f_{X}(x)\n",
    "&= \\frac{ \\mathrm{d} }{ \\mathrm{d} x} \\{1 - \\mathrm{e}^{\\frac{-1}{2}x}\\}\n",
    "\\\\\n",
    "&= 0 - \\frac{-1}{2} \\mathrm{e}^{\\frac{-1}{2}x}\n",
    "\\\\\n",
    "&= \\frac{1}{2} \\mathrm{e}^{\\frac{-1}{2}x}\n",
    "\\end{align*}\n",
    "$$\n",
    "\n",
    "$$\n",
    "\\begin{align*}\n",
    "f_{X}(x) &= \\left\\{\n",
    "    \\begin{array}{cl}\n",
    "        0 \n",
    "        & (x{\\lt}0)\n",
    "    \\\\\n",
    "        \\frac{1}{2} \\mathrm{e}^{\\frac{-1}{2}x}\n",
    "        & \n",
    "        (x{\\ge}0)\n",
    "    \\end{array}\n",
    "\\right. ,\n",
    "\\ \\ \n",
    "f_{X}(x) > 0.\n",
    "\\end{align*}\n",
    "$$\n"
   ]
  },
  {
   "cell_type": "markdown",
   "metadata": {},
   "source": [
    "### (b) Find the pdf of $Y$ \n",
    "\n",
    "From $Y=5X$,\n",
    "$$\n",
    "\\begin{align*}\n",
    "Y &= 5X\n",
    "\\\\\n",
    "\\frac{\\mathrm{d}x}{\\mathrm{d}y}\n",
    "&= \\frac{1}{5}.\n",
    "\\end{align*}\n",
    "$$\n",
    "\n",
    "PDF of $Y$ $f_{Y}(y)$ is\n",
    "$$\n",
    "\\begin{aligned}\n",
    "f_{Y}(y) \\mathrm{d}y\n",
    "&= f_{X}(x) \\mathrm{d}x\n",
    "\\\\\n",
    "f_{Y}(y)\n",
    "&= f_{X}(x=\\frac{1}{5}y) \n",
    "    \\frac{\\mathrm{d}x}{\\mathrm{d}y}\n",
    "\\\\\n",
    "&= \\frac{1}{2} \\mathrm{e}^{\\frac{-1}{2}\n",
    "    \\frac{1}{5}y}\\frac{1}{5}\n",
    "\\\\\n",
    "&= \\frac{1}{10} \\mathrm{e}^{\\frac{-1}{10}y}.\n",
    "\\end{aligned}\n",
    "$$\n",
    "\n",
    "$$\n",
    "\\begin{equation*}\n",
    "f_{Y}(y) = \\left\\{\n",
    "    \\begin{array}{cl}\n",
    "        0\n",
    "        & (y{\\lt}0),\n",
    "    \\\\\n",
    "        \\frac{1}{10} \\mathrm{e}^{\\frac{-1}{10}y}\n",
    "        & (y{\\ge}0)\n",
    "    \\end{array}\n",
    "\\right.\n",
    "\\end{equation*}\n",
    ".\n",
    "$$"
   ]
  },
  {
   "cell_type": "markdown",
   "metadata": {},
   "source": [
    "### (b') other solution"
   ]
  },
  {
   "cell_type": "markdown",
   "metadata": {},
   "source": [
    "From (a), $F_Y(x)=1-\\mathrm{e}^{-\\frac{1}{5\\beta}x}$.\n",
    "\n",
    "$$\n",
    "\\begin{align*}\n",
    "%----------------------------------------\n",
    "f_Y(x)\n",
    "&=\n",
    "\\frac{\\mathrm{d}}{\\mathrm{d}x}\n",
    "F_Y (x)\n",
    "\\\\\n",
    "%----------------------------------------\n",
    "&=\n",
    "\\frac{\\mathrm{d}}{\\mathrm{d}x}\n",
    "\\left\\{\n",
    "    1-\\mathrm{e}^{ -\\frac{1}{5{\\beta}}x}\n",
    "\\right\\}\n",
    "\\\\\n",
    "%----------------------------------------\n",
    "&=\n",
    "\\left( \n",
    "    -\\frac{1}{5\\beta} \n",
    "\\right)\n",
    "\\left( \n",
    "-\n",
    "\\mathrm{e}^{-\\frac{1}{5\\beta}x}\n",
    "\\right)\n",
    "\\\\\n",
    "%----------------------------------------\n",
    "&=\n",
    "\\frac{1}{5\\beta}\n",
    "\\mathrm{e}^{-\\frac{1}{5\\beta}x}\n",
    "\\\\\n",
    "%----------------------------------------\n",
    "\\end{align*}\n",
    "$$"
   ]
  },
  {
   "cell_type": "markdown",
   "metadata": {},
   "source": [
    "### (a) Find the cdf of $Y$ \n",
    "\n",
    "$$\n",
    "\\begin{aligned}\n",
    "5X &= Y \\\\\n",
    "X &= \\frac{1}{5}Y.\n",
    "\\end{aligned}\n",
    "$$\n",
    "\n",
    "Then, CDF of $Y$ is\n",
    "$$\n",
    "\\begin{aligned}\n",
    "F_{Y}(y)\n",
    "&= \\int_{-\\infty}^{y} {f_{Y}(t)} \\mathrm{d}t\n",
    "\\\\\n",
    "&= \\int_{-\\infty}^{y}\n",
    "        \\frac{1}{10} \\mathrm{e}^{\\frac{-1}{10}t}\n",
    "    \\mathrm{d}t\n",
    "\\\\\n",
    "&= \\frac{1}{10} \\left[ \n",
    "        \\frac{1}{-1/10} \\mathrm{e}^{\\frac{-1}{10}t}\n",
    "    \\right]_{0}^{y}\n",
    "\\\\\n",
    "&= - \\left[ \n",
    "        \\mathrm{e}^{\\frac{-1}{10}y} - \\mathrm{e}^{0}\n",
    "    \\right]\n",
    "\\\\\n",
    "&= \\left\\{ \n",
    "        1 - \\mathrm{e}^{\\frac{-1}{10}y}\n",
    "    \\right\\}\n",
    "\\end{aligned}\n",
    "$$\n",
    "\n",
    "$$\n",
    "\\begin{equation*}\n",
    "F_{Y}(y) = \\left\\{\n",
    "    \\begin{array}{cl}\n",
    "        0 \n",
    "        & (y{\\lt}0)\n",
    "    \\\\\n",
    "        1 - \\mathrm{e}^{-\\frac{1}{10}y}\n",
    "        & \n",
    "        (y{\\ge}0)\n",
    "    \\end{array}\n",
    "\\right.\n",
    "\\end{equation*}\n",
    "$$\n"
   ]
  },
  {
   "cell_type": "markdown",
   "metadata": {},
   "source": [
    "### (a') other solution"
   ]
  },
  {
   "cell_type": "markdown",
   "metadata": {},
   "source": [
    "From $Y=5X$, let\n",
    "$ g(x)=5x $ (increasing function),\n",
    "$g^{-1}(x)=\\frac{1}{5}x$.\n",
    "\n",
    "$$\n",
    "\\begin{align*}\n",
    "%----------------------------------------\n",
    "F_Y(x)\n",
    "&=\n",
    "F_X \\left( g^{-1}(x) \\right)\n",
    "\\\\\n",
    "%----------------------------------------\n",
    "&=\n",
    "F_X \\left( \\frac{1}{5}x \\right)\n",
    "\\\\\n",
    "%----------------------------------------\n",
    "&=\n",
    "1-\\mathrm{e}^{-\\frac{1}{5\\beta}x}\n",
    "\\\\\n",
    "%----------------------------------------\n",
    "\\end{align*}\n",
    "$$"
   ]
  },
  {
   "cell_type": "markdown",
   "metadata": {},
   "source": [
    "### (c) Illustrate graphically the functions in (a) and (b)"
   ]
  },
  {
   "cell_type": "code",
   "execution_count": 15,
   "metadata": {},
   "outputs": [
    {
     "data": {
      "image/png": "[encoded data removed]",
      "text/plain": [
       "<Figure size 576x576 with 1 Axes>"
      ]
     },
     "metadata": {
      "needs_background": "light"
     },
     "output_type": "display_data"
    }
   ],
   "source": [
    "import matplotlib.pyplot as plt\n",
    "import numpy as np\n",
    "import math\n",
    "\n",
    "fig_=plt.figure(figsize=(8,8))\n",
    "X_space = np.linspace(-100,100, 500)\n",
    "X_cdf  = lambda x: 1 - np.exp( (-1/2)*x )     if (x>=0) else 0\n",
    "X_pdf  = lambda x: 1/2 * np.exp( (-1/2)*x )   if (x>=0) else 0\n",
    "\n",
    "Y_cdf  = lambda y: 1 - np.exp( (-1/10)*y )    if (y>=0) else 0\n",
    "Y_pdf  = lambda y: 1/10 * np.exp( (-1/10)*y ) if (y>=0) else 0\n",
    "\n",
    "plt.plot(X_space, np.array( list(map(X_cdf, X_space))) )\n",
    "plt.plot(X_space, np.array( list(map(X_pdf, X_space))) )\n",
    "plt.plot(X_space, np.array( list(map(Y_cdf, X_space))) )\n",
    "plt.plot(X_space, np.array( list(map(Y_pdf, X_space))) )\n",
    "\n",
    "ax_=plt.gca()\n",
    "ax_.set_xlabel(\"$x$\")\n",
    "ax_.set_ylabel(\"$P[X]$\")\n",
    "ax_.grid(True)\n",
    "_=plt.legend([\"CDF of $X$\",\n",
    "              \"PDF of $X$\",\n",
    "              \"CDF of $Y$\",\n",
    "              \"PDF of $Y$\"])"
   ]
  },
  {
   "cell_type": "markdown",
   "metadata": {},
   "source": [
    "## 2. Let a continuous random variable $X$ follow a distribution that has the PDF $f_{X}(x)$. Find the pdf of random variable $Y = \\mathrm{a} + \\mathrm{b}X$."
   ]
  },
  {
   "cell_type": "markdown",
   "metadata": {},
   "source": [
    "\n",
    "From $Y=\\mathrm{a} + \\mathrm{b}X$,\n",
    "$$\n",
    "\\begin{align*}\n",
    "Y=\\mathrm{a} + \\mathrm{b}X\n",
    "\\\\\n",
    "\\frac{\\mathrm{d}x}{\\mathrm{d}y}\n",
    "&= \\frac{\\frac{\\mathrm{d}Y}{\\mathrm{d}Y} -\\mathrm{a}}{\\mathrm{b}}.\n",
    "\\\\\n",
    "&= \\frac{1}{\\mathrm{b}}.\n",
    "\\end{align*}\n",
    "$$"
   ]
  },
  {
   "cell_type": "markdown",
   "metadata": {},
   "source": [
    "PDF of $Y$ $f_{Y}(y)$ is\n",
    "$$\n",
    "\\begin{align*}\n",
    "\\int_{x}^{x+\\Delta{x}}f_{X}'(x) \\mathrm{d}x\n",
    "&= \\int_{y}^{y+\\Delta{y}}f_{Y}'(y) \\mathrm{d}y\n",
    "\\\\\n",
    "f_{X}(x) \\Delta{x}\n",
    "&= f_{Y}(y) \\Delta{y}\n",
    "    {\\ }{\\ }{\\ }{\\ }\n",
    "    (\\text{${\\Delta}x$ and ${\\Delta}y$ are so small})\n",
    "\\\\\n",
    "f_{X}(x) \\mathrm{d}x\n",
    "&= f_{Y}(y) \\mathrm{d}y\n",
    "    {\\ }{\\ }{\\ }{\\ }\n",
    "    ({\\Delta}x{\\rightarrow}0, {\\Delta}x{\\rightarrow}0)\n",
    "\\\\\n",
    "f_{Y}(y)\n",
    "&= f_{X}(x)\n",
    "    \\frac{\\mathrm{d}x}{\\mathrm{d}y}\n",
    "\\\\\n",
    "&= f_{X}(x=\\frac{y-\\mathrm{a}}{\\mathrm{b}})\n",
    "    \\frac{\\mathrm{d}x}{\\mathrm{d}y}\n",
    "\\\\\n",
    "&= f_{X}(x=\\frac{y-\\mathrm{a}}{\\mathrm{b}})\n",
    "    \\frac{1}{\\mathrm{b}}\n",
    "\\\\\n",
    "&= \\frac{1}{\\mathrm{b}} f_{X}(x=\\frac{y-\\mathrm{a}}{\\mathrm{b}})\n",
    "\\\\\n",
    "\\end{align*}\n",
    "$$"
   ]
  },
  {
   "cell_type": "markdown",
   "metadata": {},
   "source": [
    "$\n",
    "f_{Y}(y) = \\frac{1}{\\mathrm{b}} f_{X}(x=\\frac{y-\\mathrm{a}}{\\mathrm{b}}),\n",
    "{\\ }\n",
    "$\n",
    "if $Y = \\mathrm{a} + \\mathrm{b}X$."
   ]
  },
  {
   "cell_type": "markdown",
   "metadata": {},
   "source": [
    "### 2' another solution"
   ]
  },
  {
   "cell_type": "markdown",
   "metadata": {},
   "source": [
    "From $Y=\\mathrm{a} + \\mathrm{b}X$,\n",
    "let \n",
    "- $g(x)=a+bx$\n",
    "- $g^{-1}(x)=\\frac{x-a}{b}$."
   ]
  },
  {
   "cell_type": "markdown",
   "metadata": {},
   "source": [
    "If $g(x)$ is **increasing** function ($b>0$):\n",
    "\n",
    "$$\n",
    "\\begin{align*}\n",
    "%---------------------------------------\n",
    "F_Y(x)\n",
    "&=\n",
    "F_X(g^{-1}(x)).\n",
    "%---------------------------------------\n",
    "\\end{align*}\n",
    "$$"
   ]
  },
  {
   "cell_type": "markdown",
   "metadata": {},
   "source": [
    "Therefore, \n",
    "\n",
    "$$\n",
    "\\begin{align*}\n",
    "%---------------------------------------\n",
    "f_Y(x)\n",
    "&=\n",
    "\\frac{\\mathrm{d}}{\\mathrm{d}x}\n",
    "F_X \\left( g^{-1}(x) \\right)\n",
    "\\\\\n",
    "%---------------------------------------\n",
    "&=\n",
    "\\frac{\\mathrm{d}}{\\mathrm{d}g^{-1}(x)}\n",
    "F_X \\left( g^{-1}(x) \\right)\n",
    "\\frac{\\mathrm{d}g^{-1}(x)}{\\mathrm{d}x}\n",
    "\\\\\n",
    "%---------------------------------------\n",
    "&=\n",
    "f_X \\left( g^{-1}(x) \\right)\n",
    "\\frac{\\mathrm{d} \\frac{x-a}{b} }{\\mathrm{d}x}\n",
    "\\\\\n",
    "%---------------------------------------\n",
    "&=\n",
    "f_X \\left( \\frac{x-a}{b} \\right)\n",
    "\\frac{1}{b}\n",
    "\\\\\n",
    "%---------------------------------------\n",
    "&=\n",
    "\\frac{1}{b}\n",
    "f_X \\left( \\frac{x-a}{b} \\right).\n",
    "\\\\\n",
    "%---------------------------------------\n",
    "\\end{align*}\n",
    "$$"
   ]
  },
  {
   "cell_type": "markdown",
   "metadata": {},
   "source": [
    "If $g(x)$ is **decreasing** function ($b<0$):\n",
    "\n",
    "$$\n",
    "\\begin{align*}\n",
    "%---------------------------------------\n",
    "F_Y(x)\n",
    "&=\n",
    "1-F_X(g^{-1}(x)).\n",
    "%---------------------------------------\n",
    "\\end{align*}\n",
    "$$"
   ]
  },
  {
   "cell_type": "markdown",
   "metadata": {},
   "source": [
    "Therefore, \n",
    "\n",
    "$$\n",
    "\\begin{align*}\n",
    "%---------------------------------------\n",
    "f_Y(x)\n",
    "&=\n",
    "\\frac{\\mathrm{d}}{\\mathrm{d}x}\n",
    "\\left\\{\n",
    "    1-F_X \\left( g^{-1}(x) \\right)\n",
    "\\right\\}\n",
    "\\\\\n",
    "%---------------------------------------\n",
    "&=\n",
    "-\n",
    "\\frac{\\mathrm{d}}{\\mathrm{d}g^{-1}(x)}\n",
    "F_X \\left( g^{-1}(x) \\right)\n",
    "\\frac{\\mathrm{d}g^{-1}(x)}{\\mathrm{d}x}\n",
    "\\\\\n",
    "%---------------------------------------\n",
    "&=\n",
    "-\n",
    "f_X \\left( g^{-1}(x) \\right)\n",
    "\\frac{\\mathrm{d} \\frac{x-a}{b} }{\\mathrm{d}x}\n",
    "\\\\\n",
    "%---------------------------------------\n",
    "&=\n",
    "-\n",
    "f_X \\left( \\frac{x-a}{b} \\right)\n",
    "\\frac{1}{b}\n",
    "\\\\\n",
    "%---------------------------------------\n",
    "&=\n",
    "-\n",
    "\\frac{1}{b}\n",
    "f_X \\left( \\frac{x-a}{b} \\right).\n",
    "\\\\\n",
    "%---------------------------------------\n",
    "\\end{align*}\n",
    "$$"
   ]
  },
  {
   "cell_type": "markdown",
   "metadata": {},
   "source": [
    "## 3. Let $X$ and $Y$ be random vectors with means and variances,\n",
    "$\n",
    "\\mathrm{E}\\boldsymbol{X}\n",
    "= \\pmatrix{\n",
    "    10\n",
    "    \\\\\n",
    "    15\n",
    "    \\\\\n",
    "    20\n",
    "    }\n",
    "$,\n",
    "$\\mathrm{var}\\boldsymbol{X}\n",
    "= \\pmatrix{\n",
    "    10 & 5 & -5\n",
    "    \\\\\n",
    "    5 & 15 & 0\n",
    "    \\\\\n",
    "    -5 & 0 & 20\n",
    "    }\n",
    "$,\n",
    "\n",
    "$\n",
    "\\mathrm{E}\\boldsymbol{Y}\n",
    "= \\pmatrix{\n",
    "    2\n",
    "    \\\\\n",
    "    2\n",
    "    \\\\\n",
    "    2\n",
    "    }\n",
    "$,\n",
    "$\\mathrm{var}\\boldsymbol{Y}\n",
    "= \\pmatrix{\n",
    "    1 & 0.5 & 0.5\n",
    "    \\\\\n",
    "    0.5 & 1 & 0.5\n",
    "    \\\\\n",
    "    0.5 & 0.5 & 1\n",
    "    }\n",
    "$, and let \n",
    "$\\mathrm{ \\boldsymbol{a} }\n",
    "= \\pmatrix{\n",
    "    1\n",
    "    \\\\\n",
    "    -2\n",
    "    \\\\\n",
    "    5\n",
    "    }\n",
    "$ be a fixied vector."
   ]
  },
  {
   "cell_type": "code",
   "execution_count": null,
   "metadata": {},
   "outputs": [],
   "source": [
    "import numpy as np\n",
    "EX = np.array([\n",
    "                [10],\n",
    "                [15],\n",
    "                [20]]\n",
    ")\n",
    "varX = np.array([[10, 5, -5],\n",
    "                 [5, 15, 0],\n",
    "                 [-5, 0, 20]]\n",
    "               )\n",
    "\n",
    "EY = np.array([\n",
    "                [2],\n",
    "                [2],\n",
    "                [2]]\n",
    ")\n",
    "varY = np.array([[1, 0.5, 0.5],\n",
    "                 [0.5, 1, 0.5],\n",
    "                 [0.5, 0.5, 1]]\n",
    "               )\n",
    "a = np.array([\n",
    "    [1],\n",
    "    [-2],\n",
    "    [5]]\n",
    ")"
   ]
  },
  {
   "cell_type": "markdown",
   "metadata": {},
   "source": [
    "### (a) Find $\\mathrm{E}[\\boldsymbol{a}^\\mathrm{T}\\boldsymbol{X}]$\n",
    "$$\n",
    "\\begin{align*}\n",
    "\\mathrm{E}[\\boldsymbol{a}^{\\mathrm{T}}\\boldsymbol{X}]\n",
    "&= \\boldsymbol{a}^{T} \\mathrm{E}[\\boldsymbol{X}]\n",
    "\\\\\n",
    "&=\n",
    "80\n",
    "\\end{align*}\n",
    "$$"
   ]
  },
  {
   "cell_type": "code",
   "execution_count": 201,
   "metadata": {},
   "outputs": [
    {
     "data": {
      "text/plain": [
       "array([[80]])"
      ]
     },
     "execution_count": 201,
     "metadata": {},
     "output_type": "execute_result"
    }
   ],
   "source": [
    "np.matmul(a.T,EX)"
   ]
  },
  {
   "cell_type": "markdown",
   "metadata": {},
   "source": [
    "### (b) Find $\\mathrm{E}[\\boldsymbol{X} + \\boldsymbol{Y}]$.\n",
    "$$\n",
    "\\begin{align*}\n",
    "\\mathrm{E}[\\boldsymbol{X} + \\boldsymbol{Y}]\n",
    "&=\n",
    "\\mathrm{E}[\\boldsymbol{X}] + \\mathrm{E}[\\boldsymbol{Y}]\n",
    "\\\\\n",
    "&=\n",
    "\\pmatrix{}\n",
    "\\end{align*}\n",
    "$$"
   ]
  },
  {
   "cell_type": "code",
   "execution_count": 202,
   "metadata": {},
   "outputs": [
    {
     "data": {
      "text/plain": [
       "array([[12],\n",
       "       [17],\n",
       "       [22]])"
      ]
     },
     "execution_count": 202,
     "metadata": {},
     "output_type": "execute_result"
    }
   ],
   "source": [
    "EX+EY"
   ]
  },
  {
   "cell_type": "markdown",
   "metadata": {},
   "source": [
    "### (c) Find $ \\mathrm{var}[\\boldsymbol{a}^\\mathrm{T} \\boldsymbol{X}] $.\n",
    "$$\n",
    "\\begin{align*}\n",
    "\\mathrm{var}[\\boldsymbol{a}^\\mathrm{T} \\boldsymbol{X}]\n",
    "&=\n",
    "\\boldsymbol{a}^\\mathrm{T} \\mathrm{var}[\\boldsymbol{X}] \\boldsymbol{a}\n",
    "\\\\\n",
    "&= 500\n",
    "\\end{align*}\n",
    "$$\n"
   ]
  },
  {
   "cell_type": "code",
   "execution_count": 203,
   "metadata": {},
   "outputs": [
    {
     "data": {
      "text/plain": [
       "array([[500]])"
      ]
     },
     "execution_count": 203,
     "metadata": {},
     "output_type": "execute_result"
    }
   ],
   "source": [
    "np.matmul(np.matmul(a.T, varX), a)"
   ]
  },
  {
   "cell_type": "markdown",
   "metadata": {},
   "source": [
    "### (d) Find $ \\mathrm{var}[\\boldsymbol{X}+\\boldsymbol{Y}] $.\n",
    "$$\n",
    "\\begin{align*}\n",
    "\\mathrm{var}[\\boldsymbol{X}+\\boldsymbol{Y}]\n",
    "&=\n",
    "\\mathrm{var}[\\boldsymbol{X}] + \\mathrm{var}[\\boldsymbol{Y}] + 2{\\cdot}\\mathrm{cov}[\\boldsymbol{X,Y}]\n",
    "\\\\\n",
    "&=\n",
    "\\pmatrix{\n",
    "    11. &  5.5 & -4.5\n",
    "    \\\\\n",
    "    5.5 & 16. & 0.5\n",
    "    \\\\\n",
    "    -4.5 & 0.5 & 21.\n",
    "    }\n",
    "    +2{\\cdot}\\mathrm{cov}[\\boldsymbol{X,Y}]\n",
    "\\\\\n",
    "&=\n",
    "\\pmatrix{\n",
    "    11. &  5.5 & -4.5\n",
    "    \\\\\n",
    "    5.5 & 16. & 0.5\n",
    "    \\\\\n",
    "    -4.5 & 0.5 & 21.\n",
    "    }\n",
    "    {\\ \\ \\ }\n",
    "    (\\text{ if $X{$\\perp \\!\\!\\! \\perp$}Y$}).\n",
    "\\end{align*}\n",
    "$$\n"
   ]
  },
  {
   "cell_type": "code",
   "execution_count": 204,
   "metadata": {},
   "outputs": [
    {
     "data": {
      "text/plain": [
       "array([[11. ,  5.5, -4.5],\n",
       "       [ 5.5, 16. ,  0.5],\n",
       "       [-4.5,  0.5, 21. ]])"
      ]
     },
     "execution_count": 204,
     "metadata": {},
     "output_type": "execute_result"
    }
   ],
   "source": [
    "varX+varY"
   ]
  },
  {
   "cell_type": "markdown",
   "metadata": {},
   "source": [
    "\"\\\\$\\perp \\!\\!\\! \\perp\\\\$\" $\\rightarrow$ $\\perp \\!\\!\\! \\perp$"
   ]
  },
  {
   "cell_type": "markdown",
   "metadata": {},
   "source": [
    "### (e) Find $ \\mathrm{E}[\\boldsymbol{a}^\\mathrm{T} (\\boldsymbol{X} + \\boldsymbol{Y})] $.\n",
    "$$\n",
    "\\begin{align*}\n",
    "\\mathrm{E}[\\boldsymbol{a}^\\mathrm{T} (\\boldsymbol{X} + \\boldsymbol{Y})]\n",
    "&=\n",
    "\\mathrm{E}[\\boldsymbol{a}^\\mathrm{T} \\boldsymbol{X} + \\boldsymbol{a}^\\mathrm{T} \\boldsymbol{Y}]\n",
    "\\\\\n",
    "&=\n",
    "\\boldsymbol{a}^\\mathrm{T}\n",
    "\\mathrm{E}[\\boldsymbol{X}]\n",
    "+\n",
    "\\boldsymbol{a}^\\mathrm{T}\n",
    "\\mathrm{E}[\\boldsymbol{Y}]\n",
    "\\\\\n",
    "&= 88\n",
    "\\end{align*}\n",
    "$$"
   ]
  },
  {
   "cell_type": "code",
   "execution_count": 205,
   "metadata": {},
   "outputs": [
    {
     "data": {
      "text/plain": [
       "array([[88]])"
      ]
     },
     "execution_count": 205,
     "metadata": {},
     "output_type": "execute_result"
    }
   ],
   "source": [
    "np.matmul(a.T, EX) + np.matmul(a.T, EY)"
   ]
  },
  {
   "cell_type": "markdown",
   "metadata": {},
   "source": [
    "### (f) Find  $ \\mathrm{var}[\\boldsymbol{a}^\\mathrm{T} (\\boldsymbol{X} + \\boldsymbol{Y})]$.\n",
    "$$\n",
    "\\begin{align*}\n",
    "% -------------------------------------------------\n",
    "\\mathrm{var}[\\boldsymbol{a}^\\mathrm{T} (\\boldsymbol{X} + \\boldsymbol{Y})]\n",
    "&=\n",
    "\\mathrm{var}[\\boldsymbol{a}^\\mathrm{T} (\\boldsymbol{X} + \\boldsymbol{Y})]\n",
    "{\\ }\n",
    "{\\ }\\\\\n",
    "&=\n",
    "\\mathrm{var}[\n",
    "\\boldsymbol{a}^\\mathrm{T} \\boldsymbol{X}\n",
    "+\n",
    "\\boldsymbol{a}^\\mathrm{T} \\boldsymbol{Y}\n",
    "]\n",
    "% -------------------------------------------------\n",
    "\\\\\n",
    "&=\n",
    "\\mathrm{var}[\n",
    "\\boldsymbol{a}^\\mathrm{T} \\boldsymbol{X}\n",
    "]\n",
    "+\n",
    "\\mathrm{var}[\n",
    "\\boldsymbol{a}^\\mathrm{T} \\boldsymbol{Y}\n",
    "]\n",
    "+\n",
    "2{\\cdot}\\mathrm{cov}[\n",
    "\\boldsymbol{a}^\\mathrm{T} \\boldsymbol{X},\n",
    "\\boldsymbol{a}^\\mathrm{T} \\boldsymbol{Y}\n",
    "]\n",
    "\\\\\n",
    "% -------------------------------------------------\n",
    "&=\n",
    "\\boldsymbol{a}^{2}\n",
    "\\mathrm{var}[\\boldsymbol{X}]\n",
    "+\n",
    "\\boldsymbol{a}^{2}\n",
    "\\mathrm{var}[\\boldsymbol{Y}]\n",
    "+\n",
    "2{\\cdot}\n",
    "\\boldsymbol{a}^\\mathrm{T}\n",
    "\\mathrm{cov}[\n",
    "\\boldsymbol{X},\n",
    "\\boldsymbol{Y}\n",
    "]\n",
    "\\boldsymbol{a}\n",
    "\\\\\n",
    "% -------------------------------------------------\n",
    "&=\n",
    "\\boldsymbol{a}^{2}\n",
    "\\mathrm{var}[\\boldsymbol{X}]\n",
    "+\n",
    "\\boldsymbol{a}^{2}\n",
    "\\mathrm{var}[\\boldsymbol{Y}]\n",
    "+\n",
    "2{\\cdot}\n",
    "\\boldsymbol{a}^\\mathrm{T}\n",
    "\\mathrm{cov}[\n",
    "\\boldsymbol{X},\n",
    "\\boldsymbol{Y}\n",
    "]\n",
    "\\boldsymbol{a}\n",
    "\\\\\n",
    "% -------------------------------------------------\n",
    "&=\n",
    "\\boldsymbol{a}^{2}(\n",
    "\\mathrm{var}[\\boldsymbol{X}]\n",
    "+\n",
    "\\mathrm{var}[\\boldsymbol{Y}]\n",
    ")\n",
    "+\n",
    "2{\\cdot}\n",
    "\\boldsymbol{a}^\\mathrm{T}\n",
    "\\mathrm{cov}[\n",
    "\\boldsymbol{X},\n",
    "\\boldsymbol{Y}\n",
    "]\n",
    "\\boldsymbol{a}\n",
    "\\\\\n",
    "% -------------------------------------------------\n",
    "&=\n",
    "\\boldsymbol{a}^{2}(\n",
    "\\mathrm{var}[\\boldsymbol{X}]\n",
    "+\n",
    "\\mathrm{var}[\\boldsymbol{Y}]\n",
    ") \n",
    "{\\ \\ \\ \\ } (\\text{if X${\\perp \\!\\!\\! \\perp}$Y})\n",
    ",\\\\\n",
    "% -------------------------------------------------\n",
    "\\boldsymbol{a}^{2}(\n",
    "\\mathrm{var}[\\boldsymbol{X}]\n",
    "+\n",
    "\\mathrm{var}[\\boldsymbol{Y}]\n",
    ")\n",
    "&=\n",
    "\\pmatrix{\n",
    "330 & 165 & -135\n",
    "\\\\\n",
    "165 & 480 & 15\n",
    "\\\\\n",
    "-135 & 15 & 630\n",
    "}.\n",
    "\\end{align*}\n",
    "$$"
   ]
  },
  {
   "cell_type": "code",
   "execution_count": 206,
   "metadata": {},
   "outputs": [
    {
     "data": {
      "text/plain": [
       "array([[ 330.,  165., -135.],\n",
       "       [ 165.,  480.,   15.],\n",
       "       [-135.,   15.,  630.]])"
      ]
     },
     "execution_count": 206,
     "metadata": {},
     "output_type": "execute_result"
    }
   ],
   "source": [
    "np.matmul(a.T,a) * (varX+varY)"
   ]
  },
  {
   "cell_type": "markdown",
   "metadata": {},
   "source": [
    "## 4. Joint PDF.\n",
    "Let\n",
    "$ \\boldsymbol{X} = \\pmatrix{\n",
    "    X(u_{1})\n",
    "    \\\\\n",
    "    X(u_{2})\n",
    "    \\\\\n",
    "    X(u_{3})\n",
    "} $\n",
    "include the random variable X at spatial locations $u_{1} = (1, 0)$, $u_{2} = (0, 0)$, and\n",
    "$u_{3} = (0, 2)$.\n",
    "Let $\\boldsymbol{X}$ be normally distributed so that the mean and variance of the marginal distribution are\n",
    "$\\mu_{i} = 0$ and ${\\sigma}_{i}^{2} = 2^2$ for all locations $u_{i}$.\n",
    "\n",
    "1. (a) Assuming that ${\\rho}_{ij} = 0$, find the probability that all $X(u_{i}) > 1$.\n",
    "2. (b) Assuming that ${\\rho}_{ij} = \\mathrm{e}^{-\\frac{s_{ij}}{2}}$, where $s_{ij} = \\|u_{i}-u{j}\\|$ find the probability that all X(ui) > 1."
   ]
  },
  {
   "cell_type": "markdown",
   "metadata": {},
   "source": [
    "Joint PDF of $X_{i}$ is\n",
    "$$\n",
    "\\begin{align*}\n",
    "% ----------------------------------------------\n",
    "f(x_{i}|{\\mu},{\\Sigma})\n",
    "% ----------------------------------------------\n",
    "&=\n",
    "\\frac{1}{ \\sqrt{(2\\pi)^{3}} }\n",
    "|\\Sigma|^{-\\frac{1}{2}}\n",
    "\\mathrm{e}^{\\frac{1}{2} (x_{i} - {\\mu})^{\\mathrm{T}} {\\Sigma}^{-1} (x_{i} - {\\mu}) }\n",
    "% ----------------------------------------------\n",
    "\\end{align*}\n",
    "$$\n",
    "where ${\\mu}$ and ${\\Sigma}$ are mean and variance covariance matrix."
   ]
  },
  {
   "cell_type": "markdown",
   "metadata": {},
   "source": [
    "### (a) ${\\rho}_{ij} = 0$, find the $P[X(u_{i})>1]$.\n",
    "Now $\\mu = \\boldsymbol{0}$ and $ \\Sigma = \\boldsymbol{\\mathrm{e}}_3$.\n",
    "Joint PDF of $X_i$ is\n",
    "$$\n",
    "\\begin{align*}\n",
    "% ----------------------------------------------\n",
    "f(x_{i}|{\\mu},{\\Sigma})\n",
    "% ----------------------------------------------\n",
    "&=\n",
    "\\frac{1}{ \\sqrt{(2\\pi)^{3}} }\n",
    "\\mathrm{e}^{x_{i}}\n",
    "% ----------------------------------------------\n",
    "\\end{align*}\n",
    "$$"
   ]
  },
  {
   "cell_type": "markdown",
   "metadata": {},
   "source": [
    "$$\n",
    "\\begin{align*}\n",
    "% ----------------------------------------------\n",
    "\\int_{1}^{\\infty}{ f(x_{i}|{\\mu},{\\Sigma}) } \\mathrm{d}x_{i}\n",
    "% ----------------------------------------------\n",
    "&=\n",
    "1-\n",
    "\\int_{-\\infty}^{1}{ \n",
    "\\frac{1}{ \\sqrt{(2\\pi)^{3}} }\n",
    "\\mathrm{e}^{x_{i}}\n",
    "\\mathrm{d}{x_{i}}\n",
    "}\n",
    "% ----------------------------------------------\n",
    "\\\\\n",
    "&=\n",
    "1-\n",
    "\\frac{1}{ \\sqrt{(2\\pi)^{3}} }\n",
    "\\left[\n",
    "\\mathrm{e}^{x_{i}}\n",
    "\\right]_{-\\infty}^{1}\n",
    "% ----------------------------------------------\n",
    "\\\\\n",
    "&=\n",
    "1-\n",
    "\\frac{1}{ \\sqrt{(2\\pi)^{3}} }\n",
    "\\left[\n",
    "\\mathrm{e}^{1} - \\mathrm{e}^{-\\infty}\n",
    "\\right]\n",
    "% ----------------------------------------------\n",
    "\\\\\n",
    "&=\n",
    "1-\n",
    "\\frac{1}{ \\sqrt{(2\\pi)^{3}} } \\mathrm{e}\n",
    "% ----------------------------------------------\n",
    "\\end{align*}\n",
    "$$"
   ]
  },
  {
   "cell_type": "markdown",
   "metadata": {},
   "source": [
    "$$\n",
    "\\begin{align*}\n",
    "%------------------------------\n",
    "P[X_{i}>1]\n",
    "&=\n",
    "\\left\\{ \n",
    "    \\int_{1}^{\\infty}{ f(x_{i}|{\\mu},{\\Sigma}) } \\mathrm{d}x_{i}\n",
    "\\right\\}^{3}\n",
    "\\\\\n",
    "%------------------------------\n",
    "&=\n",
    "\\left\\{\n",
    "    1 - \\frac{1}{ \\sqrt{(2\\pi)^{3}} } \\mathrm{e}\n",
    "\\right\\}^{3}\n",
    "%------------------------------\n",
    "\\end{align*}\n",
    "$$"
   ]
  },
  {
   "cell_type": "markdown",
   "metadata": {},
   "source": [
    "### (b) ${\\rho}_{ij} = \\mathrm{e}^{-\\frac{s_{ij}}{2}}$, where $s_{ij} = \\|u_{i}-u{j}\\|$, find the $P[X(u_{i})>1]$.\n",
    "Now $\\mu = \\boldsymbol{0}$ and \n",
    "$ \\Sigma = 2^{2}\n",
    "\\pmatrix{\n",
    "    1 & 0.61 & 0.33\n",
    "    \\\\\n",
    "    0.1 & 1 & 0.37\n",
    "    \\\\\n",
    "    0.33 & 0.37 & 1\n",
    "    }$."
   ]
  },
  {
   "cell_type": "code",
   "execution_count": 207,
   "metadata": {},
   "outputs": [],
   "source": [
    "N_sample = 10000000\n",
    "mu = np.array([0,0,0])\n",
    "sigma = 2*2*np.array([\n",
    "            [1,0.61,0.33],\n",
    "            [0.1,1,0.37],\n",
    "            [0.33,0.37,1]\n",
    "            ])\n",
    "sigma_inv = np.linalg.inv(sigma)\n",
    "coef=np.power(2*np.pi, -3/2)"
   ]
  },
  {
   "cell_type": "code",
   "execution_count": 208,
   "metadata": {},
   "outputs": [
    {
     "name": "stderr",
     "output_type": "stream",
     "text": [
      "C:\\Users\\indiakilo\\Anaconda3\\envs\\ML\\lib\\site-packages\\ipykernel_launcher.py:1: RuntimeWarning: covariance is not symmetric positive-semidefinite.\n",
      "  \"\"\"Entry point for launching an IPython kernel.\n"
     ]
    },
    {
     "data": {
      "text/plain": [
       "0.0771592"
      ]
     },
     "execution_count": 208,
     "metadata": {},
     "output_type": "execute_result"
    }
   ],
   "source": [
    "Xi = np.random.multivariate_normal(mean=mu, cov=sigma, size=N_sample)\n",
    "N_Xi_GreaterThan_1 = np.sum(np.mean(Xi>1, axis=1)==1)\n",
    "P_Xi_GreaterThan_1 = N_Xi_GreaterThan_1 / N_sample\n",
    "P_Xi_GreaterThan_1"
   ]
  },
  {
   "cell_type": "markdown",
   "metadata": {},
   "source": [
    "$ P[X_{i}>1] {{\\ }\\approx {\\ }}0.0770629 $"
   ]
  },
  {
   "cell_type": "markdown",
   "metadata": {},
   "source": [
    "## 5. Sampling size\n",
    "Color blindness appears in 1% of the the people in a certain population. How large must a sample be if the probability of its containing a color-blind person is to be 0.95 or more? (Assume that the population is large enough to be considered as infinite, so that sampling can be considered to be with replacement)"
   ]
  },
  {
   "cell_type": "markdown",
   "metadata": {},
   "source": [
    "$p_\\mathrm{no}$ a probability that no color blind person is in the $n$-samples is\n",
    "$$\n",
    "p_\\mathrm{no} = (1-\\frac{1}{100})^n.\n",
    "$$\n",
    "a probability that at least one who has color blind is in the $n$-samples is \n",
    "$$\n",
    "\\begin{align*}\n",
    "%-------------------------------------------------\n",
    "p_\\mathrm{AtLeastOne}\n",
    "&=\n",
    "1-p_\\mathrm{no}\n",
    "\\\\\n",
    "%-------------------------------------------------\n",
    "p_\\mathrm{AtLeastOne}\n",
    "&=\n",
    "1-(1-\\frac{1}{100})^{n},\n",
    "%-------------------------------------------------\n",
    "\\end{align*}\n",
    "$$"
   ]
  },
  {
   "cell_type": "markdown",
   "metadata": {},
   "source": [
    "Consider that $ p_\\mathrm{AtLeastOne} \\ge 0.95$,\n",
    "$$\n",
    "\\begin{align*}\n",
    "%-------------------------------------------------\n",
    "p_\\mathrm{AtLeastOne}\n",
    "&{\\ }{\\ge}{\\ }\n",
    "0.95\n",
    "\\\\\n",
    "%-------------------------------------------------\n",
    "1-(1-\\frac{1}{100})^{n}\n",
    "&{\\ }{\\ge}{\\ }\n",
    "0.95\n",
    "\\\\\n",
    "%-------------------------------------------------\n",
    "1-0.95\n",
    "&{\\ }{\\ge}{\\ }\n",
    "(1-\\frac{1}{100})^{n}\n",
    "\\\\\n",
    "%-------------------------------------------------\n",
    "\\frac{5}{100}\n",
    "&{\\ }{\\ge}{\\ }\n",
    "(\\frac{99}{100})^{n}\n",
    "\\\\\n",
    "%-------------------------------------------------\n",
    "\\log{0.05}\n",
    "&{\\ }{\\ge}{\\ }\n",
    "{n} (\\log{0.99})\n",
    "\\\\\n",
    "%-------------------------------------------------\n",
    "\\frac\n",
    "{\\log{0.05}}\n",
    "{\\log{0.99}}\n",
    "&{\\ }{\\lt}{\\ }\n",
    "{n}\n",
    "{\\ \\ \\ \\ \\ }(\\log{0.99}<0)\n",
    "\\\\\n",
    "%-------------------------------------------------\n",
    "298.07285221320603\n",
    "&{\\ }{\\lt}{\\ }\n",
    "{n} \n",
    "\\\\\n",
    "%-------------------------------------------------\n",
    "\\end{align*}\n",
    "$$"
   ]
  },
  {
   "cell_type": "markdown",
   "metadata": {},
   "source": [
    "To meet $n>299$ are needed ($n$ is a number of sample)."
   ]
  },
  {
   "cell_type": "code",
   "execution_count": 229,
   "metadata": {},
   "outputs": [
    {
     "data": {
      "text/plain": [
       "-2.995732273553991"
      ]
     },
     "execution_count": 229,
     "metadata": {},
     "output_type": "execute_result"
    }
   ],
   "source": [
    "np.log(0.05)"
   ]
  },
  {
   "cell_type": "code",
   "execution_count": 230,
   "metadata": {},
   "outputs": [
    {
     "data": {
      "text/plain": [
       "-0.01005033585350145"
      ]
     },
     "execution_count": 230,
     "metadata": {},
     "output_type": "execute_result"
    }
   ],
   "source": [
    "np.log(0.99)"
   ]
  },
  {
   "cell_type": "code",
   "execution_count": 218,
   "metadata": {},
   "outputs": [
    {
     "data": {
      "text/plain": [
       "298.07285221320603"
      ]
     },
     "execution_count": 218,
     "metadata": {},
     "output_type": "execute_result"
    }
   ],
   "source": [
    "(np.log(5)-np.log(100))/(np.log(99)-np.log(100))"
   ]
  }
 ],
 "metadata": {
  "kernelspec": {
   "display_name": "Python 3",
   "language": "python",
   "name": "python3"
  },
  "language_info": {
   "codemirror_mode": {
    "name": "ipython",
    "version": 3
   },
   "file_extension": ".py",
   "mimetype": "text/x-python",
   "name": "python",
   "nbconvert_exporter": "python",
   "pygments_lexer": "ipython3",
   "version": "3.7.3"
  }
 },
 "nbformat": 4,
 "nbformat_minor": 4
}
